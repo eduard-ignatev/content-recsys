{
 "cells": [
  {
   "cell_type": "markdown",
   "id": "13eef0d5-19c2-4add-8e29-775ed9661a00",
   "metadata": {
    "tags": []
   },
   "source": [
    "## Intro"
   ]
  },
  {
   "cell_type": "markdown",
   "id": "f391e578-4681-4bd8-9e26-bcde49ca1c27",
   "metadata": {},
   "source": [
    "There is a database with following tables:\n",
    "- user_data - contains data about users\n",
    "- post_text_df - contains data about posts\n",
    "- feed_data - contains data about users interaction with posts"
   ]
  },
  {
   "cell_type": "code",
   "execution_count": 1,
   "id": "49e140cc-f22d-4dda-a7dd-86a9ff8bf5bb",
   "metadata": {},
   "outputs": [],
   "source": [
    "import numpy as np\n",
    "import pandas as pd\n",
    "import matplotlib.pyplot as plt\n",
    "import seaborn as sns"
   ]
  },
  {
   "cell_type": "code",
   "execution_count": 2,
   "id": "cbee575b-4e78-4936-a44e-705f733fa667",
   "metadata": {},
   "outputs": [],
   "source": [
    "import warnings\n",
    "warnings.filterwarnings('ignore')"
   ]
  },
  {
   "cell_type": "code",
   "execution_count": 3,
   "id": "38598e01-a6db-438e-bbab-1a419b1e8ea0",
   "metadata": {},
   "outputs": [],
   "source": [
    "# Database connection URI\n",
    "import os\n",
    "from dotenv import load_dotenv\n",
    "\n",
    "load_dotenv()\n",
    "conn_uri = os.environ['DATABASE_URI']"
   ]
  },
  {
   "cell_type": "code",
   "execution_count": 4,
   "id": "ca730490-fcf8-46af-9178-ec604cdf9178",
   "metadata": {},
   "outputs": [
    {
     "data": {
      "text/html": [
       "<div>\n",
       "<style scoped>\n",
       "    .dataframe tbody tr th:only-of-type {\n",
       "        vertical-align: middle;\n",
       "    }\n",
       "\n",
       "    .dataframe tbody tr th {\n",
       "        vertical-align: top;\n",
       "    }\n",
       "\n",
       "    .dataframe thead th {\n",
       "        text-align: right;\n",
       "    }\n",
       "</style>\n",
       "<table border=\"1\" class=\"dataframe\">\n",
       "  <thead>\n",
       "    <tr style=\"text-align: right;\">\n",
       "      <th></th>\n",
       "      <th>user_id</th>\n",
       "      <th>gender</th>\n",
       "      <th>age</th>\n",
       "      <th>country</th>\n",
       "      <th>city</th>\n",
       "      <th>exp_group</th>\n",
       "      <th>os</th>\n",
       "      <th>source</th>\n",
       "    </tr>\n",
       "  </thead>\n",
       "  <tbody>\n",
       "    <tr>\n",
       "      <th>0</th>\n",
       "      <td>200</td>\n",
       "      <td>1</td>\n",
       "      <td>34</td>\n",
       "      <td>Russia</td>\n",
       "      <td>Degtyarsk</td>\n",
       "      <td>3</td>\n",
       "      <td>Android</td>\n",
       "      <td>ads</td>\n",
       "    </tr>\n",
       "    <tr>\n",
       "      <th>1</th>\n",
       "      <td>201</td>\n",
       "      <td>0</td>\n",
       "      <td>37</td>\n",
       "      <td>Russia</td>\n",
       "      <td>Abakan</td>\n",
       "      <td>0</td>\n",
       "      <td>Android</td>\n",
       "      <td>ads</td>\n",
       "    </tr>\n",
       "    <tr>\n",
       "      <th>2</th>\n",
       "      <td>202</td>\n",
       "      <td>1</td>\n",
       "      <td>17</td>\n",
       "      <td>Russia</td>\n",
       "      <td>Smolensk</td>\n",
       "      <td>4</td>\n",
       "      <td>Android</td>\n",
       "      <td>ads</td>\n",
       "    </tr>\n",
       "    <tr>\n",
       "      <th>3</th>\n",
       "      <td>203</td>\n",
       "      <td>0</td>\n",
       "      <td>18</td>\n",
       "      <td>Russia</td>\n",
       "      <td>Moscow</td>\n",
       "      <td>1</td>\n",
       "      <td>iOS</td>\n",
       "      <td>ads</td>\n",
       "    </tr>\n",
       "    <tr>\n",
       "      <th>4</th>\n",
       "      <td>204</td>\n",
       "      <td>0</td>\n",
       "      <td>36</td>\n",
       "      <td>Russia</td>\n",
       "      <td>Anzhero-Sudzhensk</td>\n",
       "      <td>3</td>\n",
       "      <td>Android</td>\n",
       "      <td>ads</td>\n",
       "    </tr>\n",
       "    <tr>\n",
       "      <th>...</th>\n",
       "      <td>...</td>\n",
       "      <td>...</td>\n",
       "      <td>...</td>\n",
       "      <td>...</td>\n",
       "      <td>...</td>\n",
       "      <td>...</td>\n",
       "      <td>...</td>\n",
       "      <td>...</td>\n",
       "    </tr>\n",
       "    <tr>\n",
       "      <th>163200</th>\n",
       "      <td>168548</td>\n",
       "      <td>0</td>\n",
       "      <td>36</td>\n",
       "      <td>Russia</td>\n",
       "      <td>Kaliningrad</td>\n",
       "      <td>4</td>\n",
       "      <td>Android</td>\n",
       "      <td>organic</td>\n",
       "    </tr>\n",
       "    <tr>\n",
       "      <th>163201</th>\n",
       "      <td>168549</td>\n",
       "      <td>0</td>\n",
       "      <td>18</td>\n",
       "      <td>Russia</td>\n",
       "      <td>Tula</td>\n",
       "      <td>2</td>\n",
       "      <td>Android</td>\n",
       "      <td>organic</td>\n",
       "    </tr>\n",
       "    <tr>\n",
       "      <th>163202</th>\n",
       "      <td>168550</td>\n",
       "      <td>1</td>\n",
       "      <td>41</td>\n",
       "      <td>Russia</td>\n",
       "      <td>Yekaterinburg</td>\n",
       "      <td>4</td>\n",
       "      <td>Android</td>\n",
       "      <td>organic</td>\n",
       "    </tr>\n",
       "    <tr>\n",
       "      <th>163203</th>\n",
       "      <td>168551</td>\n",
       "      <td>0</td>\n",
       "      <td>38</td>\n",
       "      <td>Russia</td>\n",
       "      <td>Moscow</td>\n",
       "      <td>3</td>\n",
       "      <td>iOS</td>\n",
       "      <td>organic</td>\n",
       "    </tr>\n",
       "    <tr>\n",
       "      <th>163204</th>\n",
       "      <td>168552</td>\n",
       "      <td>1</td>\n",
       "      <td>16</td>\n",
       "      <td>Russia</td>\n",
       "      <td>Ivanteyevka</td>\n",
       "      <td>4</td>\n",
       "      <td>Android</td>\n",
       "      <td>organic</td>\n",
       "    </tr>\n",
       "  </tbody>\n",
       "</table>\n",
       "<p>163205 rows × 8 columns</p>\n",
       "</div>"
      ],
      "text/plain": [
       "        user_id  gender  age country               city  exp_group       os  \\\n",
       "0           200       1   34  Russia          Degtyarsk          3  Android   \n",
       "1           201       0   37  Russia             Abakan          0  Android   \n",
       "2           202       1   17  Russia           Smolensk          4  Android   \n",
       "3           203       0   18  Russia             Moscow          1      iOS   \n",
       "4           204       0   36  Russia  Anzhero-Sudzhensk          3  Android   \n",
       "...         ...     ...  ...     ...                ...        ...      ...   \n",
       "163200   168548       0   36  Russia        Kaliningrad          4  Android   \n",
       "163201   168549       0   18  Russia               Tula          2  Android   \n",
       "163202   168550       1   41  Russia      Yekaterinburg          4  Android   \n",
       "163203   168551       0   38  Russia             Moscow          3      iOS   \n",
       "163204   168552       1   16  Russia        Ivanteyevka          4  Android   \n",
       "\n",
       "         source  \n",
       "0           ads  \n",
       "1           ads  \n",
       "2           ads  \n",
       "3           ads  \n",
       "4           ads  \n",
       "...         ...  \n",
       "163200  organic  \n",
       "163201  organic  \n",
       "163202  organic  \n",
       "163203  organic  \n",
       "163204  organic  \n",
       "\n",
       "[163205 rows x 8 columns]"
      ]
     },
     "execution_count": 4,
     "metadata": {},
     "output_type": "execute_result"
    }
   ],
   "source": [
    "# Users data\n",
    "\n",
    "pd.read_sql(\n",
    "    '''\n",
    "    SELECT * FROM public.user_data\n",
    "    ''',\n",
    "    con=conn_uri\n",
    ")"
   ]
  },
  {
   "cell_type": "code",
   "execution_count": 5,
   "id": "b2d4e0a4-c39f-442c-bc60-6199bc25bf56",
   "metadata": {},
   "outputs": [
    {
     "data": {
      "text/html": [
       "<div>\n",
       "<style scoped>\n",
       "    .dataframe tbody tr th:only-of-type {\n",
       "        vertical-align: middle;\n",
       "    }\n",
       "\n",
       "    .dataframe tbody tr th {\n",
       "        vertical-align: top;\n",
       "    }\n",
       "\n",
       "    .dataframe thead th {\n",
       "        text-align: right;\n",
       "    }\n",
       "</style>\n",
       "<table border=\"1\" class=\"dataframe\">\n",
       "  <thead>\n",
       "    <tr style=\"text-align: right;\">\n",
       "      <th></th>\n",
       "      <th>post_id</th>\n",
       "      <th>text</th>\n",
       "      <th>topic</th>\n",
       "    </tr>\n",
       "  </thead>\n",
       "  <tbody>\n",
       "    <tr>\n",
       "      <th>0</th>\n",
       "      <td>1</td>\n",
       "      <td>UK economy facing major risks\\n\\nThe UK manufa...</td>\n",
       "      <td>business</td>\n",
       "    </tr>\n",
       "    <tr>\n",
       "      <th>1</th>\n",
       "      <td>2</td>\n",
       "      <td>Aids and climate top Davos agenda\\n\\nClimate c...</td>\n",
       "      <td>business</td>\n",
       "    </tr>\n",
       "    <tr>\n",
       "      <th>2</th>\n",
       "      <td>3</td>\n",
       "      <td>Asian quake hits European shares\\n\\nShares in ...</td>\n",
       "      <td>business</td>\n",
       "    </tr>\n",
       "    <tr>\n",
       "      <th>3</th>\n",
       "      <td>4</td>\n",
       "      <td>India power shares jump on debut\\n\\nShares in ...</td>\n",
       "      <td>business</td>\n",
       "    </tr>\n",
       "    <tr>\n",
       "      <th>4</th>\n",
       "      <td>5</td>\n",
       "      <td>Lacroix label bought by US firm\\n\\nLuxury good...</td>\n",
       "      <td>business</td>\n",
       "    </tr>\n",
       "    <tr>\n",
       "      <th>...</th>\n",
       "      <td>...</td>\n",
       "      <td>...</td>\n",
       "      <td>...</td>\n",
       "    </tr>\n",
       "    <tr>\n",
       "      <th>7018</th>\n",
       "      <td>7315</td>\n",
       "      <td>OK, I would not normally watch a Farrelly brot...</td>\n",
       "      <td>movie</td>\n",
       "    </tr>\n",
       "    <tr>\n",
       "      <th>7019</th>\n",
       "      <td>7316</td>\n",
       "      <td>I give this movie 2 stars purely because of it...</td>\n",
       "      <td>movie</td>\n",
       "    </tr>\n",
       "    <tr>\n",
       "      <th>7020</th>\n",
       "      <td>7317</td>\n",
       "      <td>I cant believe this film was allowed to be mad...</td>\n",
       "      <td>movie</td>\n",
       "    </tr>\n",
       "    <tr>\n",
       "      <th>7021</th>\n",
       "      <td>7318</td>\n",
       "      <td>The version I saw of this film was the Blockbu...</td>\n",
       "      <td>movie</td>\n",
       "    </tr>\n",
       "    <tr>\n",
       "      <th>7022</th>\n",
       "      <td>7319</td>\n",
       "      <td>Piece of subtle art. Maybe a masterpiece. Doub...</td>\n",
       "      <td>movie</td>\n",
       "    </tr>\n",
       "  </tbody>\n",
       "</table>\n",
       "<p>7023 rows × 3 columns</p>\n",
       "</div>"
      ],
      "text/plain": [
       "      post_id                                               text     topic\n",
       "0           1  UK economy facing major risks\\n\\nThe UK manufa...  business\n",
       "1           2  Aids and climate top Davos agenda\\n\\nClimate c...  business\n",
       "2           3  Asian quake hits European shares\\n\\nShares in ...  business\n",
       "3           4  India power shares jump on debut\\n\\nShares in ...  business\n",
       "4           5  Lacroix label bought by US firm\\n\\nLuxury good...  business\n",
       "...       ...                                                ...       ...\n",
       "7018     7315  OK, I would not normally watch a Farrelly brot...     movie\n",
       "7019     7316  I give this movie 2 stars purely because of it...     movie\n",
       "7020     7317  I cant believe this film was allowed to be mad...     movie\n",
       "7021     7318  The version I saw of this film was the Blockbu...     movie\n",
       "7022     7319  Piece of subtle art. Maybe a masterpiece. Doub...     movie\n",
       "\n",
       "[7023 rows x 3 columns]"
      ]
     },
     "execution_count": 5,
     "metadata": {},
     "output_type": "execute_result"
    }
   ],
   "source": [
    "# Posts data\n",
    "\n",
    "pd.read_sql(\n",
    "    '''\n",
    "    SELECT * FROM public.post_text_df\n",
    "    ''',\n",
    "    con=conn_uri\n",
    ")"
   ]
  },
  {
   "cell_type": "code",
   "execution_count": 6,
   "id": "eb09dc3e-20ec-4b06-ad98-c7169ed64192",
   "metadata": {},
   "outputs": [
    {
     "data": {
      "text/html": [
       "<div>\n",
       "<style scoped>\n",
       "    .dataframe tbody tr th:only-of-type {\n",
       "        vertical-align: middle;\n",
       "    }\n",
       "\n",
       "    .dataframe tbody tr th {\n",
       "        vertical-align: top;\n",
       "    }\n",
       "\n",
       "    .dataframe thead th {\n",
       "        text-align: right;\n",
       "    }\n",
       "</style>\n",
       "<table border=\"1\" class=\"dataframe\">\n",
       "  <thead>\n",
       "    <tr style=\"text-align: right;\">\n",
       "      <th></th>\n",
       "      <th>timestamp</th>\n",
       "      <th>user_id</th>\n",
       "      <th>post_id</th>\n",
       "      <th>action</th>\n",
       "      <th>target</th>\n",
       "    </tr>\n",
       "  </thead>\n",
       "  <tbody>\n",
       "    <tr>\n",
       "      <th>0</th>\n",
       "      <td>2021-11-09 13:24:14</td>\n",
       "      <td>23495</td>\n",
       "      <td>2729</td>\n",
       "      <td>view</td>\n",
       "      <td>0</td>\n",
       "    </tr>\n",
       "    <tr>\n",
       "      <th>1</th>\n",
       "      <td>2021-11-09 13:25:26</td>\n",
       "      <td>23495</td>\n",
       "      <td>5201</td>\n",
       "      <td>view</td>\n",
       "      <td>0</td>\n",
       "    </tr>\n",
       "    <tr>\n",
       "      <th>2</th>\n",
       "      <td>2021-11-09 13:25:56</td>\n",
       "      <td>23495</td>\n",
       "      <td>3774</td>\n",
       "      <td>view</td>\n",
       "      <td>0</td>\n",
       "    </tr>\n",
       "    <tr>\n",
       "      <th>3</th>\n",
       "      <td>2021-11-09 13:26:35</td>\n",
       "      <td>23495</td>\n",
       "      <td>1304</td>\n",
       "      <td>view</td>\n",
       "      <td>0</td>\n",
       "    </tr>\n",
       "    <tr>\n",
       "      <th>4</th>\n",
       "      <td>2021-11-09 13:28:40</td>\n",
       "      <td>23495</td>\n",
       "      <td>6140</td>\n",
       "      <td>view</td>\n",
       "      <td>0</td>\n",
       "    </tr>\n",
       "  </tbody>\n",
       "</table>\n",
       "</div>"
      ],
      "text/plain": [
       "            timestamp  user_id  post_id action  target\n",
       "0 2021-11-09 13:24:14    23495     2729   view       0\n",
       "1 2021-11-09 13:25:26    23495     5201   view       0\n",
       "2 2021-11-09 13:25:56    23495     3774   view       0\n",
       "3 2021-11-09 13:26:35    23495     1304   view       0\n",
       "4 2021-11-09 13:28:40    23495     6140   view       0"
      ]
     },
     "execution_count": 6,
     "metadata": {},
     "output_type": "execute_result"
    }
   ],
   "source": [
    "# Feed data\n",
    "\n",
    "pd.read_sql(\n",
    "    '''\n",
    "    SELECT * FROM public.feed_data LIMIT 5\n",
    "    ''',\n",
    "    con=conn_uri\n",
    ")"
   ]
  },
  {
   "cell_type": "code",
   "execution_count": 7,
   "id": "d5c323ec-851b-4400-aede-a8df4d4bfc44",
   "metadata": {},
   "outputs": [
    {
     "data": {
      "text/html": [
       "<div>\n",
       "<style scoped>\n",
       "    .dataframe tbody tr th:only-of-type {\n",
       "        vertical-align: middle;\n",
       "    }\n",
       "\n",
       "    .dataframe tbody tr th {\n",
       "        vertical-align: top;\n",
       "    }\n",
       "\n",
       "    .dataframe thead th {\n",
       "        text-align: right;\n",
       "    }\n",
       "</style>\n",
       "<table border=\"1\" class=\"dataframe\">\n",
       "  <thead>\n",
       "    <tr style=\"text-align: right;\">\n",
       "      <th></th>\n",
       "      <th>count</th>\n",
       "    </tr>\n",
       "  </thead>\n",
       "  <tbody>\n",
       "    <tr>\n",
       "      <th>0</th>\n",
       "      <td>76892800</td>\n",
       "    </tr>\n",
       "  </tbody>\n",
       "</table>\n",
       "</div>"
      ],
      "text/plain": [
       "      count\n",
       "0  76892800"
      ]
     },
     "execution_count": 7,
     "metadata": {},
     "output_type": "execute_result"
    }
   ],
   "source": [
    "pd.read_sql(\n",
    "    '''\n",
    "    SELECT count(*) FROM public.feed_data\n",
    "    ''',\n",
    "    con=conn_uri\n",
    ")"
   ]
  },
  {
   "cell_type": "markdown",
   "id": "3b4cb87f-e07d-4bfd-a211-1981fd9e9ae5",
   "metadata": {},
   "source": [
    "77 million entries dataset is too large to fit on regular RAM. One way to solve this is to sample the feed data."
   ]
  },
  {
   "cell_type": "code",
   "execution_count": 9,
   "id": "515c1fbd-7f89-4761-991d-54997b03b4bf",
   "metadata": {},
   "outputs": [],
   "source": [
    "data = pd.read_sql(\n",
    "    '''\n",
    "    SELECT\n",
    "        public.feed_data.timestamp,\n",
    "        public.feed_data.user_id,\n",
    "        public.feed_data.post_id,\n",
    "        public.feed_data.target,\n",
    "        public.post_text_df.text,\n",
    "        public.post_text_df.topic,\n",
    "        public.user_data.gender,\n",
    "        public.user_data.age,\n",
    "        public.user_data.country,\n",
    "        public.user_data.city,\n",
    "        public.user_data.exp_group,\n",
    "        public.user_data.os,\n",
    "        public.user_data.source\n",
    "    FROM public.feed_data\n",
    "    TABLESAMPLE BERNOULLI (0.5)\n",
    "    INNER JOIN public.post_text_df\n",
    "    ON public.feed_data.post_id=public.post_text_df.post_id\n",
    "    INNER JOIN public.user_data\n",
    "    ON public.feed_data.user_id=public.user_data.user_id\n",
    "    ''',\n",
    "    conn_uri\n",
    ")"
   ]
  },
  {
   "cell_type": "markdown",
   "id": "84f92ad5-e149-4310-a2fe-2adeeb359f3f",
   "metadata": {
    "tags": []
   },
   "source": [
    "## EDA"
   ]
  },
  {
   "cell_type": "code",
   "execution_count": 10,
   "id": "58256fb4-4011-4ed0-b487-8df9b7bdb279",
   "metadata": {},
   "outputs": [
    {
     "data": {
      "text/html": [
       "<div>\n",
       "<style scoped>\n",
       "    .dataframe tbody tr th:only-of-type {\n",
       "        vertical-align: middle;\n",
       "    }\n",
       "\n",
       "    .dataframe tbody tr th {\n",
       "        vertical-align: top;\n",
       "    }\n",
       "\n",
       "    .dataframe thead th {\n",
       "        text-align: right;\n",
       "    }\n",
       "</style>\n",
       "<table border=\"1\" class=\"dataframe\">\n",
       "  <thead>\n",
       "    <tr style=\"text-align: right;\">\n",
       "      <th></th>\n",
       "      <th>user_id</th>\n",
       "      <th>post_id</th>\n",
       "      <th>target</th>\n",
       "      <th>gender</th>\n",
       "      <th>age</th>\n",
       "      <th>exp_group</th>\n",
       "    </tr>\n",
       "  </thead>\n",
       "  <tbody>\n",
       "    <tr>\n",
       "      <th>count</th>\n",
       "      <td>384257.000000</td>\n",
       "      <td>384257.000000</td>\n",
       "      <td>384257.000000</td>\n",
       "      <td>384257.000000</td>\n",
       "      <td>384257.000000</td>\n",
       "      <td>384257.000000</td>\n",
       "    </tr>\n",
       "    <tr>\n",
       "      <th>mean</th>\n",
       "      <td>85046.536014</td>\n",
       "      <td>3398.160351</td>\n",
       "      <td>0.107871</td>\n",
       "      <td>0.555571</td>\n",
       "      <td>27.210614</td>\n",
       "      <td>1.990244</td>\n",
       "    </tr>\n",
       "    <tr>\n",
       "      <th>std</th>\n",
       "      <td>48894.964348</td>\n",
       "      <td>2096.560587</td>\n",
       "      <td>0.310217</td>\n",
       "      <td>0.496903</td>\n",
       "      <td>10.240985</td>\n",
       "      <td>1.406362</td>\n",
       "    </tr>\n",
       "    <tr>\n",
       "      <th>min</th>\n",
       "      <td>200.000000</td>\n",
       "      <td>1.000000</td>\n",
       "      <td>0.000000</td>\n",
       "      <td>0.000000</td>\n",
       "      <td>14.000000</td>\n",
       "      <td>0.000000</td>\n",
       "    </tr>\n",
       "    <tr>\n",
       "      <th>25%</th>\n",
       "      <td>41251.000000</td>\n",
       "      <td>1528.000000</td>\n",
       "      <td>0.000000</td>\n",
       "      <td>0.000000</td>\n",
       "      <td>20.000000</td>\n",
       "      <td>1.000000</td>\n",
       "    </tr>\n",
       "    <tr>\n",
       "      <th>50%</th>\n",
       "      <td>85501.000000</td>\n",
       "      <td>3196.000000</td>\n",
       "      <td>0.000000</td>\n",
       "      <td>1.000000</td>\n",
       "      <td>24.000000</td>\n",
       "      <td>2.000000</td>\n",
       "    </tr>\n",
       "    <tr>\n",
       "      <th>75%</th>\n",
       "      <td>127566.000000</td>\n",
       "      <td>5206.000000</td>\n",
       "      <td>0.000000</td>\n",
       "      <td>1.000000</td>\n",
       "      <td>33.000000</td>\n",
       "      <td>3.000000</td>\n",
       "    </tr>\n",
       "    <tr>\n",
       "      <th>max</th>\n",
       "      <td>168552.000000</td>\n",
       "      <td>7319.000000</td>\n",
       "      <td>1.000000</td>\n",
       "      <td>1.000000</td>\n",
       "      <td>92.000000</td>\n",
       "      <td>4.000000</td>\n",
       "    </tr>\n",
       "  </tbody>\n",
       "</table>\n",
       "</div>"
      ],
      "text/plain": [
       "             user_id        post_id         target         gender  \\\n",
       "count  384257.000000  384257.000000  384257.000000  384257.000000   \n",
       "mean    85046.536014    3398.160351       0.107871       0.555571   \n",
       "std     48894.964348    2096.560587       0.310217       0.496903   \n",
       "min       200.000000       1.000000       0.000000       0.000000   \n",
       "25%     41251.000000    1528.000000       0.000000       0.000000   \n",
       "50%     85501.000000    3196.000000       0.000000       1.000000   \n",
       "75%    127566.000000    5206.000000       0.000000       1.000000   \n",
       "max    168552.000000    7319.000000       1.000000       1.000000   \n",
       "\n",
       "                 age      exp_group  \n",
       "count  384257.000000  384257.000000  \n",
       "mean       27.210614       1.990244  \n",
       "std        10.240985       1.406362  \n",
       "min        14.000000       0.000000  \n",
       "25%        20.000000       1.000000  \n",
       "50%        24.000000       2.000000  \n",
       "75%        33.000000       3.000000  \n",
       "max        92.000000       4.000000  "
      ]
     },
     "execution_count": 10,
     "metadata": {},
     "output_type": "execute_result"
    }
   ],
   "source": [
    "data.describe()"
   ]
  },
  {
   "cell_type": "code",
   "execution_count": 11,
   "id": "eb7ebabe-dc28-4d04-b53b-de02ee2f12a5",
   "metadata": {},
   "outputs": [
    {
     "data": {
      "text/plain": [
       "timestamp    datetime64[ns]\n",
       "user_id               int64\n",
       "post_id               int64\n",
       "target                int64\n",
       "text                 object\n",
       "topic                object\n",
       "gender                int64\n",
       "age                   int64\n",
       "country              object\n",
       "city                 object\n",
       "exp_group             int64\n",
       "os                   object\n",
       "source               object\n",
       "dtype: object"
      ]
     },
     "execution_count": 11,
     "metadata": {},
     "output_type": "execute_result"
    }
   ],
   "source": [
    "data.dtypes"
   ]
  },
  {
   "cell_type": "code",
   "execution_count": 12,
   "id": "4bee3b07-56f9-40b3-9fa6-3853e2672b36",
   "metadata": {},
   "outputs": [
    {
     "data": {
      "text/plain": [
       "timestamp    0\n",
       "user_id      0\n",
       "post_id      0\n",
       "target       0\n",
       "text         0\n",
       "topic        0\n",
       "gender       0\n",
       "age          0\n",
       "country      0\n",
       "city         0\n",
       "exp_group    0\n",
       "os           0\n",
       "source       0\n",
       "dtype: int64"
      ]
     },
     "execution_count": 12,
     "metadata": {},
     "output_type": "execute_result"
    }
   ],
   "source": [
    "data.isna().sum()"
   ]
  },
  {
   "cell_type": "code",
   "execution_count": 13,
   "id": "bf656dca-917a-429d-8b83-2b3ae5c253f7",
   "metadata": {},
   "outputs": [],
   "source": [
    "# Extracting datetime features: date, month, day of week, hour\n",
    "\n",
    "data['date'] = data.timestamp.dt.date\n",
    "data['month'] = data.timestamp.dt.month\n",
    "data['day_of_week'] = data.timestamp.dt.dayofweek\n",
    "data['hour'] = data.timestamp.dt.hour"
   ]
  },
  {
   "cell_type": "code",
   "execution_count": 14,
   "id": "08729c36-350d-4a5c-bea3-1c881ea28616",
   "metadata": {},
   "outputs": [
    {
     "data": {
      "image/png": "[encoded data removed]",
      "text/plain": [
       "<Figure size 720x432 with 1 Axes>"
      ]
     },
     "metadata": {
      "needs_background": "light"
     },
     "output_type": "display_data"
    }
   ],
   "source": [
    "plt.figure(figsize=(10,6))\n",
    "sns.set_theme()\n",
    "sns.histplot(data=data, x='date', hue='target', multiple='stack');"
   ]
  },
  {
   "cell_type": "code",
   "execution_count": 15,
   "id": "9d69b49b-6d4f-4ab7-98a0-06493c7a6b82",
   "metadata": {},
   "outputs": [
    {
     "data": {
      "image/png": "[encoded data removed]",
      "text/plain": [
       "<Figure size 720x432 with 1 Axes>"
      ]
     },
     "metadata": {},
     "output_type": "display_data"
    }
   ],
   "source": [
    "plt.figure(figsize=(10,6))\n",
    "sns.countplot(data=data, x='month', hue='target');"
   ]
  },
  {
   "cell_type": "code",
   "execution_count": 16,
   "id": "1945c287-3315-47d4-8213-f3e9ec4713e4",
   "metadata": {},
   "outputs": [
    {
     "data": {
      "image/png": "[encoded data removed]",
      "text/plain": [
       "<Figure size 720x432 with 1 Axes>"
      ]
     },
     "metadata": {},
     "output_type": "display_data"
    }
   ],
   "source": [
    "plt.figure(figsize=(10,6))\n",
    "sns.countplot(data=data, x='day_of_week', hue='target');"
   ]
  },
  {
   "cell_type": "code",
   "execution_count": 17,
   "id": "ac5f7dba-1946-46ae-b617-b88956da9342",
   "metadata": {},
   "outputs": [
    {
     "data": {
      "image/png": "[encoded data removed]",
      "text/plain": [
       "<Figure size 1296x432 with 1 Axes>"
      ]
     },
     "metadata": {},
     "output_type": "display_data"
    }
   ],
   "source": [
    "plt.figure(figsize=(18,6))\n",
    "sns.histplot(data=data, x='hour', hue='target', multiple='dodge', shrink=4.0)\n",
    "plt.xticks(range(0, 24));"
   ]
  },
  {
   "cell_type": "code",
   "execution_count": 18,
   "id": "7586f586-0e0e-4576-969c-33a594975e64",
   "metadata": {},
   "outputs": [
    {
     "data": {
      "image/png": "[encoded data removed]",
      "text/plain": [
       "<Figure size 720x432 with 1 Axes>"
      ]
     },
     "metadata": {},
     "output_type": "display_data"
    }
   ],
   "source": [
    "plt.figure(figsize=(10,6))\n",
    "sns.countplot(data=data, x='topic', hue='target');"
   ]
  },
  {
   "cell_type": "code",
   "execution_count": 19,
   "id": "7ef1be44-938b-4f1b-bc4e-b98b3307a7ae",
   "metadata": {},
   "outputs": [
    {
     "data": {
      "image/png": "[encoded data removed]",
      "text/plain": [
       "<Figure size 720x432 with 1 Axes>"
      ]
     },
     "metadata": {},
     "output_type": "display_data"
    }
   ],
   "source": [
    "plt.figure(figsize=(10,6))\n",
    "sns.histplot(data=data, x='age', hue='target', multiple='stack', shrink=2.0);"
   ]
  },
  {
   "cell_type": "code",
   "execution_count": 20,
   "id": "7dbc41bd-3dc0-4972-a9ac-8572687b6896",
   "metadata": {},
   "outputs": [
    {
     "data": {
      "image/png": "[encoded data removed]",
      "text/plain": [
       "<Figure size 720x432 with 1 Axes>"
      ]
     },
     "metadata": {},
     "output_type": "display_data"
    }
   ],
   "source": [
    "plt.figure(figsize=(10,6))\n",
    "sns.countplot(data=data, x='country', hue='target');"
   ]
  },
  {
   "cell_type": "code",
   "execution_count": 21,
   "id": "093126de-c16d-4c4a-8e98-984a05270796",
   "metadata": {},
   "outputs": [
    {
     "data": {
      "image/png": "[encoded data removed]",
      "text/plain": [
       "<Figure size 720x432 with 1 Axes>"
      ]
     },
     "metadata": {},
     "output_type": "display_data"
    }
   ],
   "source": [
    "plt.figure(figsize=(10,6))\n",
    "sns.countplot(data=data, x='exp_group', hue='target');"
   ]
  },
  {
   "cell_type": "code",
   "execution_count": 22,
   "id": "e08e86d5-3202-4e08-9011-6c2f1188ec8d",
   "metadata": {},
   "outputs": [
    {
     "data": {
      "image/png": "[encoded data removed]",
      "text/plain": [
       "<Figure size 720x432 with 1 Axes>"
      ]
     },
     "metadata": {},
     "output_type": "display_data"
    }
   ],
   "source": [
    "plt.figure(figsize=(10,6))\n",
    "sns.countplot(data=data, x='os', hue='target');"
   ]
  },
  {
   "cell_type": "code",
   "execution_count": 23,
   "id": "35e8ef9d-6afe-4986-b4d4-4bc341de8085",
   "metadata": {},
   "outputs": [
    {
     "data": {
      "image/png": "[encoded data removed]",
      "text/plain": [
       "<Figure size 720x432 with 1 Axes>"
      ]
     },
     "metadata": {},
     "output_type": "display_data"
    }
   ],
   "source": [
    "plt.figure(figsize=(10,6))\n",
    "sns.countplot(data=data, x='source', hue='target');"
   ]
  },
  {
   "cell_type": "markdown",
   "id": "6b7a3d15-6991-4990-909d-9cb31b92be43",
   "metadata": {
    "tags": []
   },
   "source": [
    "## Feature Engineering"
   ]
  },
  {
   "cell_type": "markdown",
   "id": "25b4f9b1-6141-42f4-a6e9-2c83ebe50042",
   "metadata": {},
   "source": [
    "#### Text encoding (TF-IDF)"
   ]
  },
  {
   "cell_type": "code",
   "execution_count": 24,
   "id": "b05c3286-eb96-41a8-8c9f-2693ffbdb483",
   "metadata": {},
   "outputs": [
    {
     "data": {
      "text/html": [
       "<div>\n",
       "<style scoped>\n",
       "    .dataframe tbody tr th:only-of-type {\n",
       "        vertical-align: middle;\n",
       "    }\n",
       "\n",
       "    .dataframe tbody tr th {\n",
       "        vertical-align: top;\n",
       "    }\n",
       "\n",
       "    .dataframe thead th {\n",
       "        text-align: right;\n",
       "    }\n",
       "</style>\n",
       "<table border=\"1\" class=\"dataframe\">\n",
       "  <thead>\n",
       "    <tr style=\"text-align: right;\">\n",
       "      <th></th>\n",
       "      <th>post_id</th>\n",
       "      <th>text</th>\n",
       "      <th>topic</th>\n",
       "    </tr>\n",
       "  </thead>\n",
       "  <tbody>\n",
       "    <tr>\n",
       "      <th>0</th>\n",
       "      <td>1</td>\n",
       "      <td>UK economy facing major risks\\n\\nThe UK manufa...</td>\n",
       "      <td>business</td>\n",
       "    </tr>\n",
       "    <tr>\n",
       "      <th>1</th>\n",
       "      <td>2</td>\n",
       "      <td>Aids and climate top Davos agenda\\n\\nClimate c...</td>\n",
       "      <td>business</td>\n",
       "    </tr>\n",
       "    <tr>\n",
       "      <th>2</th>\n",
       "      <td>3</td>\n",
       "      <td>Asian quake hits European shares\\n\\nShares in ...</td>\n",
       "      <td>business</td>\n",
       "    </tr>\n",
       "    <tr>\n",
       "      <th>3</th>\n",
       "      <td>4</td>\n",
       "      <td>India power shares jump on debut\\n\\nShares in ...</td>\n",
       "      <td>business</td>\n",
       "    </tr>\n",
       "    <tr>\n",
       "      <th>4</th>\n",
       "      <td>5</td>\n",
       "      <td>Lacroix label bought by US firm\\n\\nLuxury good...</td>\n",
       "      <td>business</td>\n",
       "    </tr>\n",
       "    <tr>\n",
       "      <th>...</th>\n",
       "      <td>...</td>\n",
       "      <td>...</td>\n",
       "      <td>...</td>\n",
       "    </tr>\n",
       "    <tr>\n",
       "      <th>7018</th>\n",
       "      <td>7315</td>\n",
       "      <td>OK, I would not normally watch a Farrelly brot...</td>\n",
       "      <td>movie</td>\n",
       "    </tr>\n",
       "    <tr>\n",
       "      <th>7019</th>\n",
       "      <td>7316</td>\n",
       "      <td>I give this movie 2 stars purely because of it...</td>\n",
       "      <td>movie</td>\n",
       "    </tr>\n",
       "    <tr>\n",
       "      <th>7020</th>\n",
       "      <td>7317</td>\n",
       "      <td>I cant believe this film was allowed to be mad...</td>\n",
       "      <td>movie</td>\n",
       "    </tr>\n",
       "    <tr>\n",
       "      <th>7021</th>\n",
       "      <td>7318</td>\n",
       "      <td>The version I saw of this film was the Blockbu...</td>\n",
       "      <td>movie</td>\n",
       "    </tr>\n",
       "    <tr>\n",
       "      <th>7022</th>\n",
       "      <td>7319</td>\n",
       "      <td>Piece of subtle art. Maybe a masterpiece. Doub...</td>\n",
       "      <td>movie</td>\n",
       "    </tr>\n",
       "  </tbody>\n",
       "</table>\n",
       "<p>7023 rows × 3 columns</p>\n",
       "</div>"
      ],
      "text/plain": [
       "      post_id                                               text     topic\n",
       "0           1  UK economy facing major risks\\n\\nThe UK manufa...  business\n",
       "1           2  Aids and climate top Davos agenda\\n\\nClimate c...  business\n",
       "2           3  Asian quake hits European shares\\n\\nShares in ...  business\n",
       "3           4  India power shares jump on debut\\n\\nShares in ...  business\n",
       "4           5  Lacroix label bought by US firm\\n\\nLuxury good...  business\n",
       "...       ...                                                ...       ...\n",
       "7018     7315  OK, I would not normally watch a Farrelly brot...     movie\n",
       "7019     7316  I give this movie 2 stars purely because of it...     movie\n",
       "7020     7317  I cant believe this film was allowed to be mad...     movie\n",
       "7021     7318  The version I saw of this film was the Blockbu...     movie\n",
       "7022     7319  Piece of subtle art. Maybe a masterpiece. Doub...     movie\n",
       "\n",
       "[7023 rows x 3 columns]"
      ]
     },
     "execution_count": 24,
     "metadata": {},
     "output_type": "execute_result"
    }
   ],
   "source": [
    "df_posts = pd.read_sql(\n",
    "    '''\n",
    "    SELECT *\n",
    "    FROM public.post_text_df\n",
    "    ''',\n",
    "    conn_uri\n",
    ")\n",
    "df_posts"
   ]
  },
  {
   "cell_type": "code",
   "execution_count": 25,
   "id": "58ab2201-7ab0-4c7d-ad74-4190b2900a3a",
   "metadata": {},
   "outputs": [
    {
     "data": {
      "text/plain": [
       "<7023x4880 sparse matrix of type '<class 'numpy.float64'>'\n",
       "\twith 464120 stored elements in Compressed Sparse Row format>"
      ]
     },
     "execution_count": 25,
     "metadata": {},
     "output_type": "execute_result"
    }
   ],
   "source": [
    "import re\n",
    "import string\n",
    "from sklearn.feature_extraction.text import TfidfVectorizer\n",
    "\n",
    "def preprocessing(line):\n",
    "    line = line.lower()\n",
    "    line = re.sub(r\"[{}]\".format(string.punctuation), \" \", line)\n",
    "    line = line.replace('\\n\\n', ' ').replace('\\n', ' ')\n",
    "    return line\n",
    "\n",
    "vectorizer = TfidfVectorizer(\n",
    "    max_df=0.9, \n",
    "    min_df=0.003, \n",
    "    stop_words='english',\n",
    "    preprocessor=preprocessing\n",
    ")\n",
    "tfidf_matrix = vectorizer.fit_transform(df_posts['text'])\n",
    "tfidf_matrix"
   ]
  },
  {
   "cell_type": "code",
   "execution_count": 26,
   "id": "0e36582c-9cef-474c-b4a3-1221897121f1",
   "metadata": {},
   "outputs": [
    {
     "data": {
      "text/html": [
       "<div>\n",
       "<style scoped>\n",
       "    .dataframe tbody tr th:only-of-type {\n",
       "        vertical-align: middle;\n",
       "    }\n",
       "\n",
       "    .dataframe tbody tr th {\n",
       "        vertical-align: top;\n",
       "    }\n",
       "\n",
       "    .dataframe thead th {\n",
       "        text-align: right;\n",
       "    }\n",
       "</style>\n",
       "<table border=\"1\" class=\"dataframe\">\n",
       "  <thead>\n",
       "    <tr style=\"text-align: right;\">\n",
       "      <th></th>\n",
       "      <th>post_id</th>\n",
       "      <th>text</th>\n",
       "      <th>topic</th>\n",
       "      <th>tfidf_sum</th>\n",
       "      <th>tfidf_max</th>\n",
       "    </tr>\n",
       "  </thead>\n",
       "  <tbody>\n",
       "    <tr>\n",
       "      <th>0</th>\n",
       "      <td>1</td>\n",
       "      <td>UK economy facing major risks\\n\\nThe UK manufa...</td>\n",
       "      <td>business</td>\n",
       "      <td>9.388155</td>\n",
       "      <td>0.301492</td>\n",
       "    </tr>\n",
       "    <tr>\n",
       "      <th>1</th>\n",
       "      <td>2</td>\n",
       "      <td>Aids and climate top Davos agenda\\n\\nClimate c...</td>\n",
       "      <td>business</td>\n",
       "      <td>10.911074</td>\n",
       "      <td>0.219301</td>\n",
       "    </tr>\n",
       "    <tr>\n",
       "      <th>2</th>\n",
       "      <td>3</td>\n",
       "      <td>Asian quake hits European shares\\n\\nShares in ...</td>\n",
       "      <td>business</td>\n",
       "      <td>10.614318</td>\n",
       "      <td>0.349036</td>\n",
       "    </tr>\n",
       "    <tr>\n",
       "      <th>3</th>\n",
       "      <td>4</td>\n",
       "      <td>India power shares jump on debut\\n\\nShares in ...</td>\n",
       "      <td>business</td>\n",
       "      <td>6.704049</td>\n",
       "      <td>0.436909</td>\n",
       "    </tr>\n",
       "    <tr>\n",
       "      <th>4</th>\n",
       "      <td>5</td>\n",
       "      <td>Lacroix label bought by US firm\\n\\nLuxury good...</td>\n",
       "      <td>business</td>\n",
       "      <td>6.589813</td>\n",
       "      <td>0.452052</td>\n",
       "    </tr>\n",
       "    <tr>\n",
       "      <th>...</th>\n",
       "      <td>...</td>\n",
       "      <td>...</td>\n",
       "      <td>...</td>\n",
       "      <td>...</td>\n",
       "      <td>...</td>\n",
       "    </tr>\n",
       "    <tr>\n",
       "      <th>7018</th>\n",
       "      <td>7315</td>\n",
       "      <td>OK, I would not normally watch a Farrelly brot...</td>\n",
       "      <td>movie</td>\n",
       "      <td>5.727741</td>\n",
       "      <td>0.322693</td>\n",
       "    </tr>\n",
       "    <tr>\n",
       "      <th>7019</th>\n",
       "      <td>7316</td>\n",
       "      <td>I give this movie 2 stars purely because of it...</td>\n",
       "      <td>movie</td>\n",
       "      <td>6.168378</td>\n",
       "      <td>0.267284</td>\n",
       "    </tr>\n",
       "    <tr>\n",
       "      <th>7020</th>\n",
       "      <td>7317</td>\n",
       "      <td>I cant believe this film was allowed to be mad...</td>\n",
       "      <td>movie</td>\n",
       "      <td>5.100407</td>\n",
       "      <td>0.362198</td>\n",
       "    </tr>\n",
       "    <tr>\n",
       "      <th>7021</th>\n",
       "      <td>7318</td>\n",
       "      <td>The version I saw of this film was the Blockbu...</td>\n",
       "      <td>movie</td>\n",
       "      <td>6.351284</td>\n",
       "      <td>0.284994</td>\n",
       "    </tr>\n",
       "    <tr>\n",
       "      <th>7022</th>\n",
       "      <td>7319</td>\n",
       "      <td>Piece of subtle art. Maybe a masterpiece. Doub...</td>\n",
       "      <td>movie</td>\n",
       "      <td>6.999273</td>\n",
       "      <td>0.182506</td>\n",
       "    </tr>\n",
       "  </tbody>\n",
       "</table>\n",
       "<p>7023 rows × 5 columns</p>\n",
       "</div>"
      ],
      "text/plain": [
       "      post_id                                               text     topic  \\\n",
       "0           1  UK economy facing major risks\\n\\nThe UK manufa...  business   \n",
       "1           2  Aids and climate top Davos agenda\\n\\nClimate c...  business   \n",
       "2           3  Asian quake hits European shares\\n\\nShares in ...  business   \n",
       "3           4  India power shares jump on debut\\n\\nShares in ...  business   \n",
       "4           5  Lacroix label bought by US firm\\n\\nLuxury good...  business   \n",
       "...       ...                                                ...       ...   \n",
       "7018     7315  OK, I would not normally watch a Farrelly brot...     movie   \n",
       "7019     7316  I give this movie 2 stars purely because of it...     movie   \n",
       "7020     7317  I cant believe this film was allowed to be mad...     movie   \n",
       "7021     7318  The version I saw of this film was the Blockbu...     movie   \n",
       "7022     7319  Piece of subtle art. Maybe a masterpiece. Doub...     movie   \n",
       "\n",
       "      tfidf_sum  tfidf_max  \n",
       "0      9.388155   0.301492  \n",
       "1     10.911074   0.219301  \n",
       "2     10.614318   0.349036  \n",
       "3      6.704049   0.436909  \n",
       "4      6.589813   0.452052  \n",
       "...         ...        ...  \n",
       "7018   5.727741   0.322693  \n",
       "7019   6.168378   0.267284  \n",
       "7020   5.100407   0.362198  \n",
       "7021   6.351284   0.284994  \n",
       "7022   6.999273   0.182506  \n",
       "\n",
       "[7023 rows x 5 columns]"
      ]
     },
     "execution_count": 26,
     "metadata": {},
     "output_type": "execute_result"
    }
   ],
   "source": [
    "df_tfidf = df_posts.copy()\n",
    "df_tfidf['tfidf_sum'] = pd.DataFrame(tfidf_matrix.todense()).sum(axis=1)\n",
    "df_tfidf['tfidf_max'] = pd.DataFrame(tfidf_matrix.todense()).max(axis=1)\n",
    "df_tfidf"
   ]
  },
  {
   "cell_type": "code",
   "execution_count": 27,
   "id": "6907100f-3198-4fa5-9bd3-7b4a7ddf7a6a",
   "metadata": {},
   "outputs": [],
   "source": [
    "df_tfidf = df_tfidf.drop(['text'], axis=1)\n",
    "data = data.drop(['topic'], axis=1)\n",
    "data = data.join(df_tfidf.set_index('post_id'), on='post_id')"
   ]
  },
  {
   "cell_type": "code",
   "execution_count": 28,
   "id": "eb02c3ee-8ab5-4448-8a46-5e7f41a2ce98",
   "metadata": {},
   "outputs": [
    {
     "data": {
      "image/png": "[encoded data removed]",
      "text/plain": [
       "<Figure size 720x576 with 2 Axes>"
      ]
     },
     "metadata": {},
     "output_type": "display_data"
    }
   ],
   "source": [
    "fig, axs = plt.subplots(nrows=2, figsize=(10,8))\n",
    "sns.histplot(data=data, x='tfidf_sum', hue='target', multiple='stack', ax=axs[0])\n",
    "sns.histplot(data=data, x='tfidf_max', hue='target', multiple='stack', ax=axs[1]);"
   ]
  },
  {
   "cell_type": "markdown",
   "id": "9564bdef-a3c1-4fa3-9a7e-146987aa9573",
   "metadata": {},
   "source": [
    "#### Likes per user"
   ]
  },
  {
   "cell_type": "code",
   "execution_count": 29,
   "id": "3297b555-0193-4d18-b7da-1b6582396f10",
   "metadata": {},
   "outputs": [
    {
     "data": {
      "text/html": [
       "<div>\n",
       "<style scoped>\n",
       "    .dataframe tbody tr th:only-of-type {\n",
       "        vertical-align: middle;\n",
       "    }\n",
       "\n",
       "    .dataframe tbody tr th {\n",
       "        vertical-align: top;\n",
       "    }\n",
       "\n",
       "    .dataframe thead th {\n",
       "        text-align: right;\n",
       "    }\n",
       "</style>\n",
       "<table border=\"1\" class=\"dataframe\">\n",
       "  <thead>\n",
       "    <tr style=\"text-align: right;\">\n",
       "      <th></th>\n",
       "      <th>user_id</th>\n",
       "      <th>user_total_likes</th>\n",
       "    </tr>\n",
       "  </thead>\n",
       "  <tbody>\n",
       "    <tr>\n",
       "      <th>0</th>\n",
       "      <td>200</td>\n",
       "      <td>37</td>\n",
       "    </tr>\n",
       "    <tr>\n",
       "      <th>1</th>\n",
       "      <td>201</td>\n",
       "      <td>46</td>\n",
       "    </tr>\n",
       "    <tr>\n",
       "      <th>2</th>\n",
       "      <td>202</td>\n",
       "      <td>69</td>\n",
       "    </tr>\n",
       "    <tr>\n",
       "      <th>3</th>\n",
       "      <td>203</td>\n",
       "      <td>43</td>\n",
       "    </tr>\n",
       "    <tr>\n",
       "      <th>4</th>\n",
       "      <td>204</td>\n",
       "      <td>13</td>\n",
       "    </tr>\n",
       "    <tr>\n",
       "      <th>...</th>\n",
       "      <td>...</td>\n",
       "      <td>...</td>\n",
       "    </tr>\n",
       "    <tr>\n",
       "      <th>163177</th>\n",
       "      <td>168548</td>\n",
       "      <td>18</td>\n",
       "    </tr>\n",
       "    <tr>\n",
       "      <th>163178</th>\n",
       "      <td>168549</td>\n",
       "      <td>21</td>\n",
       "    </tr>\n",
       "    <tr>\n",
       "      <th>163179</th>\n",
       "      <td>168550</td>\n",
       "      <td>37</td>\n",
       "    </tr>\n",
       "    <tr>\n",
       "      <th>163180</th>\n",
       "      <td>168551</td>\n",
       "      <td>43</td>\n",
       "    </tr>\n",
       "    <tr>\n",
       "      <th>163181</th>\n",
       "      <td>168552</td>\n",
       "      <td>10</td>\n",
       "    </tr>\n",
       "  </tbody>\n",
       "</table>\n",
       "<p>163182 rows × 2 columns</p>\n",
       "</div>"
      ],
      "text/plain": [
       "        user_id  user_total_likes\n",
       "0           200                37\n",
       "1           201                46\n",
       "2           202                69\n",
       "3           203                43\n",
       "4           204                13\n",
       "...         ...               ...\n",
       "163177   168548                18\n",
       "163178   168549                21\n",
       "163179   168550                37\n",
       "163180   168551                43\n",
       "163181   168552                10\n",
       "\n",
       "[163182 rows x 2 columns]"
      ]
     },
     "execution_count": 29,
     "metadata": {},
     "output_type": "execute_result"
    }
   ],
   "source": [
    "# SQL request from database to make data available for all users.\n",
    "# Timestamp condition is due to prevent data leakage. See below.\n",
    "\n",
    "df_utl = pd.read_sql(\n",
    "    '''\n",
    "    SELECT user_id, COUNT(post_id) AS user_total_likes\n",
    "    FROM public.feed_data\n",
    "    WHERE timestamp < '2021-12-15 00:00:00' AND target = 1\n",
    "    GROUP BY user_id\n",
    "    ''',\n",
    "    conn_uri\n",
    ")\n",
    "df_utl"
   ]
  },
  {
   "cell_type": "code",
   "execution_count": 30,
   "id": "77bbdef0-1fcc-4672-abfa-e9e777631469",
   "metadata": {},
   "outputs": [],
   "source": [
    "data = pd.merge(data,\n",
    "              df_utl,\n",
    "              on='user_id',\n",
    "              how='left')\n",
    "data['user_total_likes'] = data['user_total_likes'].fillna(0).astype(int)"
   ]
  },
  {
   "cell_type": "code",
   "execution_count": 31,
   "id": "69ad65c1-46c6-4923-bd7c-b3a993bf04a2",
   "metadata": {},
   "outputs": [
    {
     "data": {
      "image/png": "[encoded data removed]",
      "text/plain": [
       "<Figure size 720x432 with 1 Axes>"
      ]
     },
     "metadata": {},
     "output_type": "display_data"
    }
   ],
   "source": [
    "plt.figure(figsize=(10,6))\n",
    "sns.histplot(data=data, x='user_total_likes', hue='target', bins=50, multiple='stack');"
   ]
  },
  {
   "cell_type": "markdown",
   "id": "3571f609-4b3a-45ed-8b4b-618884aca038",
   "metadata": {},
   "source": [
    "## CatBoost baseline"
   ]
  },
  {
   "cell_type": "code",
   "execution_count": 32,
   "id": "ee16f080-6716-495a-acaf-5f394fb61cb3",
   "metadata": {},
   "outputs": [],
   "source": [
    "# Dropping redundant columns\n",
    "\n",
    "data = data.drop(['user_id', 'post_id', 'text', 'date'], axis=1)"
   ]
  },
  {
   "cell_type": "code",
   "execution_count": 33,
   "id": "5cbb9641-246e-4f68-ba51-a54304589127",
   "metadata": {},
   "outputs": [
    {
     "data": {
      "text/plain": [
       "(Timestamp('2021-12-29 23:38:54'), Timestamp('2021-10-01 06:02:01'))"
      ]
     },
     "execution_count": 33,
     "metadata": {},
     "output_type": "execute_result"
    }
   ],
   "source": [
    "# Since we have a time-series data, we can split train and test on a certain date.\n",
    "# That way we test a model generalization ability for future prediction.\n",
    "\n",
    "max(data.timestamp), min(data.timestamp)"
   ]
  },
  {
   "cell_type": "code",
   "execution_count": 34,
   "id": "aa8800c0-c355-4d97-b386-2265c85c7c16",
   "metadata": {},
   "outputs": [],
   "source": [
    "# Let's split on 2021-12-15\n",
    "# It should provide roughly an 80% to 20% ratio\n",
    "\n",
    "data_train = data[data.timestamp < '2021-12-15']\n",
    "data_test = data[data.timestamp >= '2021-12-15']\n",
    "\n",
    "data_train = data_train.drop('timestamp', axis=1)\n",
    "data_test = data_test.drop('timestamp', axis=1)"
   ]
  },
  {
   "cell_type": "code",
   "execution_count": 35,
   "id": "29b9e5d2-2e72-4fb7-aa94-a4f11695f62a",
   "metadata": {},
   "outputs": [],
   "source": [
    "X_train = data_train.drop('target', axis=1)\n",
    "X_test = data_test.drop('target', axis=1)\n",
    "\n",
    "y_train = data_train['target']\n",
    "y_test = data_test['target']"
   ]
  },
  {
   "cell_type": "code",
   "execution_count": 36,
   "id": "f59a0b95-346d-4943-94cb-c5df99ceb405",
   "metadata": {},
   "outputs": [
    {
     "data": {
      "text/plain": [
       "((319267,), (64990,))"
      ]
     },
     "execution_count": 36,
     "metadata": {},
     "output_type": "execute_result"
    }
   ],
   "source": [
    "y_train.shape, y_test.shape"
   ]
  },
  {
   "cell_type": "code",
   "execution_count": 37,
   "id": "5466af46-fa1e-4e5e-b395-64d61e7237a9",
   "metadata": {},
   "outputs": [
    {
     "name": "stdout",
     "output_type": "stream",
     "text": [
      "Learning rate set to 0.120839\n",
      "0:\tlearn: 0.5980214\ttotal: 554ms\tremaining: 9m 13s\n",
      "100:\tlearn: 0.3230253\ttotal: 31.4s\tremaining: 4m 39s\n",
      "200:\tlearn: 0.3208527\ttotal: 1m 6s\tremaining: 4m 24s\n",
      "300:\tlearn: 0.3194944\ttotal: 1m 40s\tremaining: 3m 54s\n",
      "400:\tlearn: 0.3181177\ttotal: 2m 15s\tremaining: 3m 23s\n",
      "500:\tlearn: 0.3167595\ttotal: 2m 54s\tremaining: 2m 54s\n",
      "600:\tlearn: 0.3154091\ttotal: 3m 31s\tremaining: 2m 20s\n",
      "700:\tlearn: 0.3142382\ttotal: 4m 7s\tremaining: 1m 45s\n",
      "800:\tlearn: 0.3131581\ttotal: 4m 43s\tremaining: 1m 10s\n",
      "900:\tlearn: 0.3120201\ttotal: 5m 19s\tremaining: 35.1s\n",
      "999:\tlearn: 0.3109582\ttotal: 5m 54s\tremaining: 0us\n"
     ]
    },
    {
     "data": {
      "text/plain": [
       "<catboost.core.CatBoostClassifier at 0x7f6af508b7c0>"
      ]
     },
     "execution_count": 37,
     "metadata": {},
     "output_type": "execute_result"
    }
   ],
   "source": [
    "from catboost import CatBoostClassifier\n",
    "\n",
    "cat_cols = ['gender', 'country', 'city', 'exp_group', 'os', 'source', 'month', 'day_of_week', 'hour', 'topic']\n",
    "\n",
    "model = CatBoostClassifier(\n",
    "    loss_function='Logloss',\n",
    "    cat_features=cat_cols,\n",
    "    verbose=100\n",
    ")\n",
    "\n",
    "model.fit(X_train, y_train)"
   ]
  },
  {
   "cell_type": "code",
   "execution_count": 43,
   "id": "8902065e-ccaa-4717-b6ab-1ec65b2f62e9",
   "metadata": {},
   "outputs": [
    {
     "name": "stdout",
     "output_type": "stream",
     "text": [
      "              precision    recall  f1-score   support\n",
      "\n",
      "           0      0.879     1.000     0.936     57120\n",
      "           1      0.000     0.000     0.000      7870\n",
      "\n",
      "    accuracy                          0.879     64990\n",
      "   macro avg      0.439     0.500     0.468     64990\n",
      "weighted avg      0.772     0.879     0.822     64990\n",
      "\n"
     ]
    }
   ],
   "source": [
    "from sklearn.metrics import classification_report, f1_score, roc_curve, auc\n",
    "from sklearn.metrics import RocCurveDisplay\n",
    "\n",
    "y_pred = model.predict(X_test)\n",
    "print(classification_report(y_test, y_pred, digits=3))"
   ]
  },
  {
   "cell_type": "code",
   "execution_count": 44,
   "id": "d7cf947c-deef-4520-b5d8-d2f7ef5ff788",
   "metadata": {},
   "outputs": [
    {
     "name": "stdout",
     "output_type": "stream",
     "text": [
      "roc_auc = 0.614\n"
     ]
    },
    {
     "data": {
      "text/plain": [
       "<sklearn.metrics._plot.roc_curve.RocCurveDisplay at 0x7f6aed019190>"
      ]
     },
     "execution_count": 44,
     "metadata": {},
     "output_type": "execute_result"
    },
    {
     "data": {
      "image/png": "[encoded data removed]",
      "text/plain": [
       "<Figure size 432x288 with 1 Axes>"
      ]
     },
     "metadata": {},
     "output_type": "display_data"
    }
   ],
   "source": [
    "fpr, tpr, thresholds = roc_curve(y_test, model.predict_proba(X_test)[:, 1])\n",
    "roc_auc = auc(fpr, tpr)\n",
    "print(f'roc_auc = {roc_auc.round(3)}')\n",
    "RocCurveDisplay(fpr=fpr, tpr=tpr, roc_auc=roc_auc).plot()"
   ]
  },
  {
   "cell_type": "code",
   "execution_count": 46,
   "id": "2861ce76-2c5a-4c76-bfe6-72e94736f06b",
   "metadata": {},
   "outputs": [
    {
     "data": {
      "text/plain": [
       "Text(0.5, 1.0, 'Feature Importance')"
      ]
     },
     "execution_count": 46,
     "metadata": {},
     "output_type": "execute_result"
    },
    {
     "data": {
      "image/png": "[encoded data removed]",
      "text/plain": [
       "<Figure size 864x432 with 1 Axes>"
      ]
     },
     "metadata": {},
     "output_type": "display_data"
    }
   ],
   "source": [
    "feature_importance = model.feature_importances_\n",
    "sorted_idx = np.argsort(feature_importance)\n",
    "fig = plt.figure(figsize=(12, 6))\n",
    "plt.barh(range(len(sorted_idx)), feature_importance[sorted_idx], align='center')\n",
    "plt.yticks(range(len(sorted_idx)), np.array(X_test.columns)[sorted_idx])\n",
    "plt.title('Feature Importance')"
   ]
  },
  {
   "cell_type": "code",
   "execution_count": 41,
   "id": "0fdd18a1-795b-4bee-ad50-de053bdfbea7",
   "metadata": {},
   "outputs": [],
   "source": [
    "# Saving model to use it in a service\n",
    "\n",
    "model.save_model('catboost_model_01', format='cbm')"
   ]
  },
  {
   "cell_type": "code",
   "execution_count": 42,
   "id": "edf3caf2-9bab-4b80-8413-f90570f229b3",
   "metadata": {},
   "outputs": [
    {
     "data": {
      "text/plain": [
       "23"
      ]
     },
     "execution_count": 42,
     "metadata": {},
     "output_type": "execute_result"
    }
   ],
   "source": [
    "# Saving TF-IDF features to the database\n",
    "\n",
    "df_tfidf.to_sql(\n",
    "   \"ignatev_df_tfidf\",\n",
    "    con=conn_uri,\n",
    "    schema=\"public\",\n",
    "    if_exists='replace'\n",
    "   )"
   ]
  },
  {
   "cell_type": "markdown",
   "id": "258a8867-9a51-4ccc-98d2-868ced8d35e5",
   "metadata": {
    "tags": []
   },
   "source": [
    "## Performance Metrics"
   ]
  },
  {
   "attachments": {
    "48cb2aea-7fe8-4370-9aaa-fb9a82c6d927.png": {
     "image/png": "[encoded data removed]"
    }
   },
   "cell_type": "markdown",
   "id": "d0b669af-93ef-4c24-84a8-39348eaf28f3",
   "metadata": {},
   "source": [
    "Performance assessment was implemented in web-based checker using **hitrate@5** metric:\n",
    "\n",
    "![image.png](attachment:48cb2aea-7fe8-4370-9aaa-fb9a82c6d927.png)"
   ]
  },
  {
   "attachments": {
    "d56a2156-ebc2-49d6-982e-884b00438ad6.png": {
     "image/png": "[encoded data removed]"
    }
   },
   "cell_type": "markdown",
   "id": "0c27037b-40ed-43c9-9aaa-d92c0f33b04f",
   "metadata": {},
   "source": [
    "Checker results:\n",
    "\n",
    "![image.png](attachment:d56a2156-ebc2-49d6-982e-884b00438ad6.png)"
   ]
  }
 ],
 "metadata": {
  "kernelspec": {
   "display_name": "Python 3.9.12 ('recsys_venv': venv)",
   "language": "python",
   "name": "python3"
  },
  "language_info": {
   "codemirror_mode": {
    "name": "ipython",
    "version": 3
   },
   "file_extension": ".py",
   "mimetype": "text/x-python",
   "name": "python",
   "nbconvert_exporter": "python",
   "pygments_lexer": "ipython3",
   "version": "3.9.12"
  },
  "vscode": {
   "interpreter": {
    "hash": "b0c327af2340a6c3c75730c6f85aff24873394f8c79fce0cbaabf6341ad63543"
   }
  }
 },
 "nbformat": 4,
 "nbformat_minor": 5
}
