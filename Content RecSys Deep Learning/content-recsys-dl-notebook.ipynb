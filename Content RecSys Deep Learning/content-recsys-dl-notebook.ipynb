{
 "cells": [
  {
   "cell_type": "markdown",
   "id": "8d2483ca",
   "metadata": {
    "papermill": {
     "duration": 0.016841,
     "end_time": "2022-10-06T08:50:17.662185",
     "exception": false,
     "start_time": "2022-10-06T08:50:17.645344",
     "status": "completed"
    },
    "tags": []
   },
   "source": [
    "## Intro"
   ]
  },
  {
   "cell_type": "markdown",
   "id": "cfe0ce83",
   "metadata": {
    "papermill": {
     "duration": 0.016451,
     "end_time": "2022-10-06T08:50:17.693830",
     "exception": false,
     "start_time": "2022-10-06T08:50:17.677379",
     "status": "completed"
    },
    "tags": []
   },
   "source": [
    "Initial EDA was conducted as part of the first version of recommender system (see content-recsys-notebook)"
   ]
  },
  {
   "cell_type": "code",
   "execution_count": 1,
   "id": "ea9bd9b0",
   "metadata": {
    "execution": {
     "iopub.execute_input": "2022-10-06T08:50:17.714365Z",
     "iopub.status.busy": "2022-10-06T08:50:17.713839Z",
     "iopub.status.idle": "2022-10-06T08:50:18.607529Z",
     "shell.execute_reply": "2022-10-06T08:50:18.606599Z"
    },
    "papermill": {
     "duration": 0.905318,
     "end_time": "2022-10-06T08:50:18.610318",
     "exception": false,
     "start_time": "2022-10-06T08:50:17.705000",
     "status": "completed"
    },
    "tags": []
   },
   "outputs": [],
   "source": [
    "import numpy as np\n",
    "import pandas as pd\n",
    "import matplotlib.pyplot as plt\n",
    "import seaborn as sns"
   ]
  },
  {
   "cell_type": "code",
   "execution_count": 2,
   "id": "3632b3e9",
   "metadata": {
    "execution": {
     "iopub.execute_input": "2022-10-06T08:50:18.627003Z",
     "iopub.status.busy": "2022-10-06T08:50:18.626683Z",
     "iopub.status.idle": "2022-10-06T08:50:18.631101Z",
     "shell.execute_reply": "2022-10-06T08:50:18.630108Z"
    },
    "papermill": {
     "duration": 0.014987,
     "end_time": "2022-10-06T08:50:18.633230",
     "exception": false,
     "start_time": "2022-10-06T08:50:18.618243",
     "status": "completed"
    },
    "tags": []
   },
   "outputs": [],
   "source": [
    "import warnings\n",
    "warnings.filterwarnings('ignore')"
   ]
  },
  {
   "cell_type": "code",
   "execution_count": 3,
   "id": "35c90cd4",
   "metadata": {
    "execution": {
     "iopub.execute_input": "2022-10-06T08:50:18.652706Z",
     "iopub.status.busy": "2022-10-06T08:50:18.652427Z",
     "iopub.status.idle": "2022-10-06T08:50:18.891787Z",
     "shell.execute_reply": "2022-10-06T08:50:18.890827Z"
    },
    "papermill": {
     "duration": 0.250692,
     "end_time": "2022-10-06T08:50:18.894213",
     "exception": false,
     "start_time": "2022-10-06T08:50:18.643521",
     "status": "completed"
    },
    "tags": []
   },
   "outputs": [],
   "source": [
    "# Database connection URI\n",
    "from kaggle_secrets import UserSecretsClient\n",
    "\n",
    "secret_label = 'conn_uri'\n",
    "conn_uri = UserSecretsClient().get_secret(secret_label)"
   ]
  },
  {
   "cell_type": "code",
   "execution_count": 4,
   "id": "b43a5070",
   "metadata": {
    "execution": {
     "iopub.execute_input": "2022-10-06T08:50:18.912052Z",
     "iopub.status.busy": "2022-10-06T08:50:18.911723Z",
     "iopub.status.idle": "2022-10-06T08:50:30.613119Z",
     "shell.execute_reply": "2022-10-06T08:50:30.611970Z"
    },
    "papermill": {
     "duration": 11.712531,
     "end_time": "2022-10-06T08:50:30.615687",
     "exception": false,
     "start_time": "2022-10-06T08:50:18.903156",
     "status": "completed"
    },
    "tags": []
   },
   "outputs": [
    {
     "name": "stdout",
     "output_type": "stream",
     "text": [
      "Collecting psycopg2-binary\r\n",
      "  Downloading psycopg2_binary-2.9.3-cp37-cp37m-manylinux_2_17_x86_64.manylinux2014_x86_64.whl (3.0 MB)\r\n",
      "\u001b[2K     \u001b[90m━━━━━━━━━━━━━━━━━━━━━━━━━━━━━━━━━━━━━━━━\u001b[0m \u001b[32m3.0/3.0 MB\u001b[0m \u001b[31m7.7 MB/s\u001b[0m eta \u001b[36m0:00:00\u001b[0m\r\n",
      "\u001b[?25hInstalling collected packages: psycopg2-binary\r\n",
      "Successfully installed psycopg2-binary-2.9.3\r\n",
      "\u001b[33mWARNING: Running pip as the 'root' user can result in broken permissions and conflicting behaviour with the system package manager. It is recommended to use a virtual environment instead: https://pip.pypa.io/warnings/venv\u001b[0m\u001b[33m\r\n",
      "\u001b[0m"
     ]
    }
   ],
   "source": [
    "!pip install psycopg2-binary"
   ]
  },
  {
   "cell_type": "code",
   "execution_count": 5,
   "id": "d0bf60ca",
   "metadata": {
    "execution": {
     "iopub.execute_input": "2022-10-06T08:50:30.634298Z",
     "iopub.status.busy": "2022-10-06T08:50:30.633946Z",
     "iopub.status.idle": "2022-10-06T08:50:42.318524Z",
     "shell.execute_reply": "2022-10-06T08:50:42.317401Z"
    },
    "papermill": {
     "duration": 11.696891,
     "end_time": "2022-10-06T08:50:42.321303",
     "exception": false,
     "start_time": "2022-10-06T08:50:30.624412",
     "status": "completed"
    },
    "tags": []
   },
   "outputs": [],
   "source": [
    "data = pd.read_sql(\n",
    "    '''\n",
    "    SELECT\n",
    "        public.feed_data.timestamp,\n",
    "        public.feed_data.user_id,\n",
    "        public.feed_data.post_id,\n",
    "        public.feed_data.target,\n",
    "        public.user_data.gender,\n",
    "        public.user_data.age,\n",
    "        public.user_data.country,\n",
    "        public.user_data.city,\n",
    "        public.user_data.exp_group,\n",
    "        public.user_data.os,\n",
    "        public.user_data.source\n",
    "    FROM public.feed_data\n",
    "    TABLESAMPLE BERNOULLI (0.5)\n",
    "    INNER JOIN public.post_text_df\n",
    "    ON public.feed_data.post_id=public.post_text_df.post_id\n",
    "    INNER JOIN public.user_data\n",
    "    ON public.feed_data.user_id=public.user_data.user_id\n",
    "    ''',\n",
    "    conn_uri\n",
    ")"
   ]
  },
  {
   "cell_type": "code",
   "execution_count": 6,
   "id": "e86cbb31",
   "metadata": {
    "execution": {
     "iopub.execute_input": "2022-10-06T08:50:42.340458Z",
     "iopub.status.busy": "2022-10-06T08:50:42.340141Z",
     "iopub.status.idle": "2022-10-06T08:50:42.561378Z",
     "shell.execute_reply": "2022-10-06T08:50:42.560345Z"
    },
    "papermill": {
     "duration": 0.233411,
     "end_time": "2022-10-06T08:50:42.563808",
     "exception": false,
     "start_time": "2022-10-06T08:50:42.330397",
     "status": "completed"
    },
    "tags": []
   },
   "outputs": [],
   "source": [
    "# Extracting datetime features: date, month, day of week, hour\n",
    "\n",
    "data['date'] = data.timestamp.dt.date\n",
    "data['month'] = data.timestamp.dt.month\n",
    "data['day_of_week'] = data.timestamp.dt.dayofweek\n",
    "data['hour'] = data.timestamp.dt.hour"
   ]
  },
  {
   "cell_type": "markdown",
   "id": "2780c8ff",
   "metadata": {
    "papermill": {
     "duration": 0.008316,
     "end_time": "2022-10-06T08:50:42.581136",
     "exception": false,
     "start_time": "2022-10-06T08:50:42.572820",
     "status": "completed"
    },
    "tags": []
   },
   "source": [
    "## Feature Engineering"
   ]
  },
  {
   "cell_type": "markdown",
   "id": "120e31b3",
   "metadata": {
    "papermill": {
     "duration": 0.008207,
     "end_time": "2022-10-06T08:50:42.597820",
     "exception": false,
     "start_time": "2022-10-06T08:50:42.589613",
     "status": "completed"
    },
    "tags": []
   },
   "source": [
    "#### Text clustering using Transformers\n",
    "The idea is to get text embeddings of posts using state-of-the-art NLP models (BERT, RoBERTa, DeBERTa, etc.)\n",
    "\n",
    "Then we can use a clustering algorithm, i.e. k-means, to create clusters of similar posts.\n",
    "\n",
    "Additional information about clustering should presumably benefit the Catboost model performance."
   ]
  },
  {
   "cell_type": "code",
   "execution_count": 7,
   "id": "0c14cf77",
   "metadata": {
    "execution": {
     "iopub.execute_input": "2022-10-06T08:50:42.617052Z",
     "iopub.status.busy": "2022-10-06T08:50:42.616360Z",
     "iopub.status.idle": "2022-10-06T08:50:46.877728Z",
     "shell.execute_reply": "2022-10-06T08:50:46.876774Z"
    },
    "papermill": {
     "duration": 4.273247,
     "end_time": "2022-10-06T08:50:46.879884",
     "exception": false,
     "start_time": "2022-10-06T08:50:42.606637",
     "status": "completed"
    },
    "tags": []
   },
   "outputs": [
    {
     "data": {
      "text/html": [
       "<div>\n",
       "<style scoped>\n",
       "    .dataframe tbody tr th:only-of-type {\n",
       "        vertical-align: middle;\n",
       "    }\n",
       "\n",
       "    .dataframe tbody tr th {\n",
       "        vertical-align: top;\n",
       "    }\n",
       "\n",
       "    .dataframe thead th {\n",
       "        text-align: right;\n",
       "    }\n",
       "</style>\n",
       "<table border=\"1\" class=\"dataframe\">\n",
       "  <thead>\n",
       "    <tr style=\"text-align: right;\">\n",
       "      <th></th>\n",
       "      <th>post_id</th>\n",
       "      <th>text</th>\n",
       "      <th>topic</th>\n",
       "    </tr>\n",
       "  </thead>\n",
       "  <tbody>\n",
       "    <tr>\n",
       "      <th>0</th>\n",
       "      <td>1</td>\n",
       "      <td>UK economy facing major risks\\n\\nThe UK manufa...</td>\n",
       "      <td>business</td>\n",
       "    </tr>\n",
       "    <tr>\n",
       "      <th>1</th>\n",
       "      <td>2</td>\n",
       "      <td>Aids and climate top Davos agenda\\n\\nClimate c...</td>\n",
       "      <td>business</td>\n",
       "    </tr>\n",
       "    <tr>\n",
       "      <th>2</th>\n",
       "      <td>3</td>\n",
       "      <td>Asian quake hits European shares\\n\\nShares in ...</td>\n",
       "      <td>business</td>\n",
       "    </tr>\n",
       "    <tr>\n",
       "      <th>3</th>\n",
       "      <td>4</td>\n",
       "      <td>India power shares jump on debut\\n\\nShares in ...</td>\n",
       "      <td>business</td>\n",
       "    </tr>\n",
       "    <tr>\n",
       "      <th>4</th>\n",
       "      <td>5</td>\n",
       "      <td>Lacroix label bought by US firm\\n\\nLuxury good...</td>\n",
       "      <td>business</td>\n",
       "    </tr>\n",
       "    <tr>\n",
       "      <th>...</th>\n",
       "      <td>...</td>\n",
       "      <td>...</td>\n",
       "      <td>...</td>\n",
       "    </tr>\n",
       "    <tr>\n",
       "      <th>7018</th>\n",
       "      <td>7315</td>\n",
       "      <td>OK, I would not normally watch a Farrelly brot...</td>\n",
       "      <td>movie</td>\n",
       "    </tr>\n",
       "    <tr>\n",
       "      <th>7019</th>\n",
       "      <td>7316</td>\n",
       "      <td>I give this movie 2 stars purely because of it...</td>\n",
       "      <td>movie</td>\n",
       "    </tr>\n",
       "    <tr>\n",
       "      <th>7020</th>\n",
       "      <td>7317</td>\n",
       "      <td>I cant believe this film was allowed to be mad...</td>\n",
       "      <td>movie</td>\n",
       "    </tr>\n",
       "    <tr>\n",
       "      <th>7021</th>\n",
       "      <td>7318</td>\n",
       "      <td>The version I saw of this film was the Blockbu...</td>\n",
       "      <td>movie</td>\n",
       "    </tr>\n",
       "    <tr>\n",
       "      <th>7022</th>\n",
       "      <td>7319</td>\n",
       "      <td>Piece of subtle art. Maybe a masterpiece. Doub...</td>\n",
       "      <td>movie</td>\n",
       "    </tr>\n",
       "  </tbody>\n",
       "</table>\n",
       "<p>7023 rows × 3 columns</p>\n",
       "</div>"
      ],
      "text/plain": [
       "      post_id                                               text     topic\n",
       "0           1  UK economy facing major risks\\n\\nThe UK manufa...  business\n",
       "1           2  Aids and climate top Davos agenda\\n\\nClimate c...  business\n",
       "2           3  Asian quake hits European shares\\n\\nShares in ...  business\n",
       "3           4  India power shares jump on debut\\n\\nShares in ...  business\n",
       "4           5  Lacroix label bought by US firm\\n\\nLuxury good...  business\n",
       "...       ...                                                ...       ...\n",
       "7018     7315  OK, I would not normally watch a Farrelly brot...     movie\n",
       "7019     7316  I give this movie 2 stars purely because of it...     movie\n",
       "7020     7317  I cant believe this film was allowed to be mad...     movie\n",
       "7021     7318  The version I saw of this film was the Blockbu...     movie\n",
       "7022     7319  Piece of subtle art. Maybe a masterpiece. Doub...     movie\n",
       "\n",
       "[7023 rows x 3 columns]"
      ]
     },
     "execution_count": 7,
     "metadata": {},
     "output_type": "execute_result"
    }
   ],
   "source": [
    "df_posts = pd.read_sql(\n",
    "    '''\n",
    "    SELECT *\n",
    "    FROM public.post_text_df\n",
    "    ''',\n",
    "    conn_uri\n",
    ")\n",
    "df_posts"
   ]
  },
  {
   "cell_type": "code",
   "execution_count": 8,
   "id": "a9966255",
   "metadata": {
    "execution": {
     "iopub.execute_input": "2022-10-06T08:50:46.899517Z",
     "iopub.status.busy": "2022-10-06T08:50:46.898711Z",
     "iopub.status.idle": "2022-10-06T08:50:47.351389Z",
     "shell.execute_reply": "2022-10-06T08:50:47.350423Z"
    },
    "papermill": {
     "duration": 0.464897,
     "end_time": "2022-10-06T08:50:47.353833",
     "exception": false,
     "start_time": "2022-10-06T08:50:46.888936",
     "status": "completed"
    },
    "tags": []
   },
   "outputs": [],
   "source": [
    "from transformers import AutoTokenizer\n",
    "from transformers import AutoModel\n",
    "\n",
    "\n",
    "def get_model(model_name):\n",
    "    assert model_name in ['bert', 'roberta', 'deberta']\n",
    "\n",
    "    checkpoint_names = {\n",
    "        'bert': 'bert-base-cased',  # https://huggingface.co/bert-base-cased\n",
    "        'roberta': 'roberta-base',  # https://huggingface.co/roberta-base\n",
    "        'deberta': 'microsoft/deberta-v3-base'  # https://huggingface.co/microsoft/deberta-v3-base\n",
    "    }\n",
    "\n",
    "    return AutoTokenizer.from_pretrained(checkpoint_names[model_name]), AutoModel.from_pretrained(checkpoint_names[model_name])"
   ]
  },
  {
   "cell_type": "code",
   "execution_count": 9,
   "id": "59f32c22",
   "metadata": {
    "execution": {
     "iopub.execute_input": "2022-10-06T08:50:47.374308Z",
     "iopub.status.busy": "2022-10-06T08:50:47.374002Z",
     "iopub.status.idle": "2022-10-06T08:51:10.109656Z",
     "shell.execute_reply": "2022-10-06T08:51:10.108276Z"
    },
    "papermill": {
     "duration": 22.748413,
     "end_time": "2022-10-06T08:51:10.112348",
     "exception": false,
     "start_time": "2022-10-06T08:50:47.363935",
     "status": "completed"
    },
    "tags": []
   },
   "outputs": [
    {
     "data": {
      "application/vnd.jupyter.widget-view+json": {
       "model_id": "1943c138ff2d4386a52e5a8761347d08",
       "version_major": 2,
       "version_minor": 0
      },
      "text/plain": [
       "Downloading:   0%|          | 0.00/481 [00:00<?, ?B/s]"
      ]
     },
     "metadata": {},
     "output_type": "display_data"
    },
    {
     "data": {
      "application/vnd.jupyter.widget-view+json": {
       "model_id": "e0da914ce2b141769c9d36db801ceb8e",
       "version_major": 2,
       "version_minor": 0
      },
      "text/plain": [
       "Downloading:   0%|          | 0.00/878k [00:00<?, ?B/s]"
      ]
     },
     "metadata": {},
     "output_type": "display_data"
    },
    {
     "data": {
      "application/vnd.jupyter.widget-view+json": {
       "model_id": "a3fbc6713abe412986d73f0701076e4e",
       "version_major": 2,
       "version_minor": 0
      },
      "text/plain": [
       "Downloading:   0%|          | 0.00/446k [00:00<?, ?B/s]"
      ]
     },
     "metadata": {},
     "output_type": "display_data"
    },
    {
     "data": {
      "application/vnd.jupyter.widget-view+json": {
       "model_id": "61915b2c9015402a8233f76a92c79f22",
       "version_major": 2,
       "version_minor": 0
      },
      "text/plain": [
       "Downloading:   0%|          | 0.00/1.29M [00:00<?, ?B/s]"
      ]
     },
     "metadata": {},
     "output_type": "display_data"
    },
    {
     "data": {
      "application/vnd.jupyter.widget-view+json": {
       "model_id": "b49f69bda2f54573b938d4a5cc377f1e",
       "version_major": 2,
       "version_minor": 0
      },
      "text/plain": [
       "Downloading:   0%|          | 0.00/478M [00:00<?, ?B/s]"
      ]
     },
     "metadata": {},
     "output_type": "display_data"
    },
    {
     "name": "stderr",
     "output_type": "stream",
     "text": [
      "Some weights of the model checkpoint at roberta-base were not used when initializing RobertaModel: ['lm_head.layer_norm.bias', 'lm_head.layer_norm.weight', 'lm_head.dense.bias', 'lm_head.dense.weight', 'lm_head.bias', 'lm_head.decoder.weight']\n",
      "- This IS expected if you are initializing RobertaModel from the checkpoint of a model trained on another task or with another architecture (e.g. initializing a BertForSequenceClassification model from a BertForPreTraining model).\n",
      "- This IS NOT expected if you are initializing RobertaModel from the checkpoint of a model that you expect to be exactly identical (initializing a BertForSequenceClassification model from a BertForSequenceClassification model).\n"
     ]
    }
   ],
   "source": [
    "tokenizer, model = get_model('roberta')"
   ]
  },
  {
   "cell_type": "code",
   "execution_count": 10,
   "id": "a75bf9de",
   "metadata": {
    "execution": {
     "iopub.execute_input": "2022-10-06T08:51:10.133790Z",
     "iopub.status.busy": "2022-10-06T08:51:10.133252Z",
     "iopub.status.idle": "2022-10-06T08:51:20.307329Z",
     "shell.execute_reply": "2022-10-06T08:51:20.306305Z"
    },
    "papermill": {
     "duration": 10.187328,
     "end_time": "2022-10-06T08:51:20.309946",
     "exception": false,
     "start_time": "2022-10-06T08:51:10.122618",
     "status": "completed"
    },
    "tags": []
   },
   "outputs": [],
   "source": [
    "from torch.utils.data import Dataset\n",
    "from torch.utils.data import DataLoader\n",
    "from transformers import DataCollatorWithPadding\n",
    "\n",
    "\n",
    "class PostDataset(Dataset):\n",
    "    def __init__(self, texts, tokenizer):\n",
    "        super().__init__()\n",
    "\n",
    "        self.texts = tokenizer.batch_encode_plus(\n",
    "            texts,\n",
    "            add_special_tokens=True,\n",
    "            return_token_type_ids=False,\n",
    "            return_tensors='pt',\n",
    "            truncation=True,\n",
    "            padding=True\n",
    "        )\n",
    "        self.tokenizer = tokenizer\n",
    "\n",
    "    def __getitem__(self, idx):\n",
    "        return {'input_ids': self.texts['input_ids'][idx], 'attention_mask': self.texts['attention_mask'][idx]}\n",
    "\n",
    "    def __len__(self):\n",
    "        return len(self.texts['input_ids'])\n",
    "    \n",
    "    \n",
    "dataset = PostDataset(df_posts['text'].values.tolist(), tokenizer)\n",
    "\n",
    "data_collator = DataCollatorWithPadding(tokenizer=tokenizer)\n",
    "\n",
    "loader = DataLoader(dataset, batch_size=32, collate_fn=data_collator, pin_memory=True, shuffle=False)"
   ]
  },
  {
   "cell_type": "code",
   "execution_count": 11,
   "id": "b7e0ffd4",
   "metadata": {
    "execution": {
     "iopub.execute_input": "2022-10-06T08:51:20.331268Z",
     "iopub.status.busy": "2022-10-06T08:51:20.330958Z",
     "iopub.status.idle": "2022-10-06T08:51:20.338511Z",
     "shell.execute_reply": "2022-10-06T08:51:20.337650Z"
    },
    "papermill": {
     "duration": 0.020123,
     "end_time": "2022-10-06T08:51:20.340540",
     "exception": false,
     "start_time": "2022-10-06T08:51:20.320417",
     "status": "completed"
    },
    "tags": []
   },
   "outputs": [],
   "source": [
    "import torch\n",
    "from tqdm import tqdm\n",
    "\n",
    "\n",
    "@torch.inference_mode()\n",
    "def get_embeddings_labels(model, loader):\n",
    "    model.eval()\n",
    "    \n",
    "    total_embeddings = []\n",
    "    \n",
    "    for batch in tqdm(loader):\n",
    "        batch = {key: batch[key].to(device) for key in ['attention_mask', 'input_ids']}\n",
    "\n",
    "        embeddings = model(**batch)['last_hidden_state'][:, 0, :]\n",
    "\n",
    "        total_embeddings.append(embeddings.cpu())\n",
    "\n",
    "    return torch.cat(total_embeddings, dim=0)"
   ]
  },
  {
   "cell_type": "code",
   "execution_count": 12,
   "id": "af0f8878",
   "metadata": {
    "execution": {
     "iopub.execute_input": "2022-10-06T08:51:20.360794Z",
     "iopub.status.busy": "2022-10-06T08:51:20.360446Z",
     "iopub.status.idle": "2022-10-06T08:51:25.419928Z",
     "shell.execute_reply": "2022-10-06T08:51:25.418900Z"
    },
    "papermill": {
     "duration": 5.072723,
     "end_time": "2022-10-06T08:51:25.422623",
     "exception": false,
     "start_time": "2022-10-06T08:51:20.349900",
     "status": "completed"
    },
    "tags": []
   },
   "outputs": [
    {
     "name": "stdout",
     "output_type": "stream",
     "text": [
      "cuda:0\n",
      "Tesla P100-PCIE-16GB\n"
     ]
    }
   ],
   "source": [
    "device = torch.device('cuda:0' if torch.cuda.is_available() else 'cpu')\n",
    "\n",
    "print(device)\n",
    "print(torch.cuda.get_device_name())\n",
    "\n",
    "model = model.to(device)"
   ]
  },
  {
   "cell_type": "code",
   "execution_count": 13,
   "id": "d087c494",
   "metadata": {
    "execution": {
     "iopub.execute_input": "2022-10-06T08:51:25.444169Z",
     "iopub.status.busy": "2022-10-06T08:51:25.443859Z",
     "iopub.status.idle": "2022-10-06T08:53:18.797294Z",
     "shell.execute_reply": "2022-10-06T08:53:18.796089Z"
    },
    "papermill": {
     "duration": 113.368225,
     "end_time": "2022-10-06T08:53:18.801427",
     "exception": false,
     "start_time": "2022-10-06T08:51:25.433202",
     "status": "completed"
    },
    "tags": []
   },
   "outputs": [
    {
     "name": "stderr",
     "output_type": "stream",
     "text": [
      "100%|██████████| 220/220 [01:53<00:00,  1.94it/s]\n"
     ]
    },
    {
     "data": {
      "text/plain": [
       "array([[-0.0386057 ,  0.09835505,  0.02948263, ..., -0.08099239,\n",
       "        -0.03544499, -0.04847637],\n",
       "       [-0.00790161,  0.08904035,  0.04218233, ..., -0.07876968,\n",
       "        -0.02434699,  0.01079475],\n",
       "       [-0.06683062,  0.11239152,  0.03230258, ..., -0.12619457,\n",
       "        -0.08494119, -0.01880301],\n",
       "       ...,\n",
       "       [-0.07701661,  0.05103108, -0.02830478, ..., -0.13749714,\n",
       "        -0.05310532, -0.03514053],\n",
       "       [-0.07431208,  0.08764903,  0.01007027, ..., -0.12020964,\n",
       "        -0.00962677, -0.04021227],\n",
       "       [-0.10920744,  0.09746821, -0.00142146, ..., -0.07132419,\n",
       "         0.00438616,  0.04553585]], dtype=float32)"
      ]
     },
     "execution_count": 13,
     "metadata": {},
     "output_type": "execute_result"
    }
   ],
   "source": [
    "embeddings = get_embeddings_labels(model, loader).numpy()\n",
    "embeddings"
   ]
  },
  {
   "cell_type": "code",
   "execution_count": 14,
   "id": "b2b3b041",
   "metadata": {
    "execution": {
     "iopub.execute_input": "2022-10-06T08:53:18.845144Z",
     "iopub.status.busy": "2022-10-06T08:53:18.844845Z",
     "iopub.status.idle": "2022-10-06T08:53:18.852181Z",
     "shell.execute_reply": "2022-10-06T08:53:18.851220Z"
    },
    "papermill": {
     "duration": 0.03212,
     "end_time": "2022-10-06T08:53:18.854223",
     "exception": false,
     "start_time": "2022-10-06T08:53:18.822103",
     "status": "completed"
    },
    "tags": []
   },
   "outputs": [
    {
     "data": {
      "text/plain": [
       "(7023, 768)"
      ]
     },
     "execution_count": 14,
     "metadata": {},
     "output_type": "execute_result"
    }
   ],
   "source": [
    "embeddings.shape"
   ]
  },
  {
   "cell_type": "code",
   "execution_count": 15,
   "id": "29574822",
   "metadata": {
    "execution": {
     "iopub.execute_input": "2022-10-06T08:53:18.895981Z",
     "iopub.status.busy": "2022-10-06T08:53:18.895056Z",
     "iopub.status.idle": "2022-10-06T08:53:20.886592Z",
     "shell.execute_reply": "2022-10-06T08:53:20.885221Z"
    },
    "papermill": {
     "duration": 2.016435,
     "end_time": "2022-10-06T08:53:20.890545",
     "exception": false,
     "start_time": "2022-10-06T08:53:18.874110",
     "status": "completed"
    },
    "tags": []
   },
   "outputs": [
    {
     "data": {
      "text/html": [
       "<div>\n",
       "<style scoped>\n",
       "    .dataframe tbody tr th:only-of-type {\n",
       "        vertical-align: middle;\n",
       "    }\n",
       "\n",
       "    .dataframe tbody tr th {\n",
       "        vertical-align: top;\n",
       "    }\n",
       "\n",
       "    .dataframe thead th {\n",
       "        text-align: right;\n",
       "    }\n",
       "</style>\n",
       "<table border=\"1\" class=\"dataframe\">\n",
       "  <thead>\n",
       "    <tr style=\"text-align: right;\">\n",
       "      <th></th>\n",
       "      <th>post_id</th>\n",
       "      <th>topic</th>\n",
       "      <th>TextCluster</th>\n",
       "      <th>DistanceTo1thCluster</th>\n",
       "      <th>DistanceTo2thCluster</th>\n",
       "      <th>DistanceTo3thCluster</th>\n",
       "      <th>DistanceTo4thCluster</th>\n",
       "      <th>DistanceTo5thCluster</th>\n",
       "      <th>DistanceTo6thCluster</th>\n",
       "      <th>DistanceTo7thCluster</th>\n",
       "      <th>DistanceTo8thCluster</th>\n",
       "      <th>DistanceTo9thCluster</th>\n",
       "      <th>DistanceTo10thCluster</th>\n",
       "      <th>DistanceTo11thCluster</th>\n",
       "      <th>DistanceTo12thCluster</th>\n",
       "      <th>DistanceTo13thCluster</th>\n",
       "      <th>DistanceTo14thCluster</th>\n",
       "      <th>DistanceTo15thCluster</th>\n",
       "    </tr>\n",
       "  </thead>\n",
       "  <tbody>\n",
       "    <tr>\n",
       "      <th>0</th>\n",
       "      <td>1</td>\n",
       "      <td>business</td>\n",
       "      <td>6</td>\n",
       "      <td>1.050889</td>\n",
       "      <td>1.207836</td>\n",
       "      <td>0.798138</td>\n",
       "      <td>0.485486</td>\n",
       "      <td>0.612790</td>\n",
       "      <td>1.336404</td>\n",
       "      <td>0.454504</td>\n",
       "      <td>1.249585</td>\n",
       "      <td>0.791558</td>\n",
       "      <td>1.131962</td>\n",
       "      <td>1.299609</td>\n",
       "      <td>1.073963</td>\n",
       "      <td>0.770392</td>\n",
       "      <td>0.929518</td>\n",
       "      <td>0.692307</td>\n",
       "    </tr>\n",
       "    <tr>\n",
       "      <th>1</th>\n",
       "      <td>2</td>\n",
       "      <td>business</td>\n",
       "      <td>3</td>\n",
       "      <td>0.901539</td>\n",
       "      <td>1.085174</td>\n",
       "      <td>0.644537</td>\n",
       "      <td>0.287500</td>\n",
       "      <td>0.468443</td>\n",
       "      <td>1.213891</td>\n",
       "      <td>0.397038</td>\n",
       "      <td>1.098615</td>\n",
       "      <td>0.584630</td>\n",
       "      <td>0.993576</td>\n",
       "      <td>1.175868</td>\n",
       "      <td>0.870792</td>\n",
       "      <td>0.600673</td>\n",
       "      <td>0.756438</td>\n",
       "      <td>0.536264</td>\n",
       "    </tr>\n",
       "    <tr>\n",
       "      <th>2</th>\n",
       "      <td>3</td>\n",
       "      <td>business</td>\n",
       "      <td>6</td>\n",
       "      <td>0.885362</td>\n",
       "      <td>1.204498</td>\n",
       "      <td>0.661438</td>\n",
       "      <td>0.561706</td>\n",
       "      <td>0.658659</td>\n",
       "      <td>1.190937</td>\n",
       "      <td>0.368483</td>\n",
       "      <td>1.237542</td>\n",
       "      <td>0.651768</td>\n",
       "      <td>0.956100</td>\n",
       "      <td>1.105168</td>\n",
       "      <td>1.037589</td>\n",
       "      <td>0.675989</td>\n",
       "      <td>0.768604</td>\n",
       "      <td>0.583091</td>\n",
       "    </tr>\n",
       "    <tr>\n",
       "      <th>3</th>\n",
       "      <td>4</td>\n",
       "      <td>business</td>\n",
       "      <td>6</td>\n",
       "      <td>0.932174</td>\n",
       "      <td>1.054059</td>\n",
       "      <td>0.741978</td>\n",
       "      <td>0.441795</td>\n",
       "      <td>0.721656</td>\n",
       "      <td>1.179358</td>\n",
       "      <td>0.393844</td>\n",
       "      <td>1.066680</td>\n",
       "      <td>0.699694</td>\n",
       "      <td>0.980931</td>\n",
       "      <td>1.167418</td>\n",
       "      <td>0.866976</td>\n",
       "      <td>0.743663</td>\n",
       "      <td>0.797625</td>\n",
       "      <td>0.661652</td>\n",
       "    </tr>\n",
       "    <tr>\n",
       "      <th>4</th>\n",
       "      <td>5</td>\n",
       "      <td>business</td>\n",
       "      <td>6</td>\n",
       "      <td>0.746481</td>\n",
       "      <td>1.001756</td>\n",
       "      <td>0.619650</td>\n",
       "      <td>0.487365</td>\n",
       "      <td>0.630494</td>\n",
       "      <td>1.008888</td>\n",
       "      <td>0.374591</td>\n",
       "      <td>1.036437</td>\n",
       "      <td>0.478295</td>\n",
       "      <td>0.830793</td>\n",
       "      <td>0.967534</td>\n",
       "      <td>0.853987</td>\n",
       "      <td>0.605490</td>\n",
       "      <td>0.685166</td>\n",
       "      <td>0.566810</td>\n",
       "    </tr>\n",
       "  </tbody>\n",
       "</table>\n",
       "</div>"
      ],
      "text/plain": [
       "   post_id     topic  TextCluster  DistanceTo1thCluster  DistanceTo2thCluster  \\\n",
       "0        1  business            6              1.050889              1.207836   \n",
       "1        2  business            3              0.901539              1.085174   \n",
       "2        3  business            6              0.885362              1.204498   \n",
       "3        4  business            6              0.932174              1.054059   \n",
       "4        5  business            6              0.746481              1.001756   \n",
       "\n",
       "   DistanceTo3thCluster  DistanceTo4thCluster  DistanceTo5thCluster  \\\n",
       "0              0.798138              0.485486              0.612790   \n",
       "1              0.644537              0.287500              0.468443   \n",
       "2              0.661438              0.561706              0.658659   \n",
       "3              0.741978              0.441795              0.721656   \n",
       "4              0.619650              0.487365              0.630494   \n",
       "\n",
       "   DistanceTo6thCluster  DistanceTo7thCluster  DistanceTo8thCluster  \\\n",
       "0              1.336404              0.454504              1.249585   \n",
       "1              1.213891              0.397038              1.098615   \n",
       "2              1.190937              0.368483              1.237542   \n",
       "3              1.179358              0.393844              1.066680   \n",
       "4              1.008888              0.374591              1.036437   \n",
       "\n",
       "   DistanceTo9thCluster  DistanceTo10thCluster  DistanceTo11thCluster  \\\n",
       "0              0.791558               1.131962               1.299609   \n",
       "1              0.584630               0.993576               1.175868   \n",
       "2              0.651768               0.956100               1.105168   \n",
       "3              0.699694               0.980931               1.167418   \n",
       "4              0.478295               0.830793               0.967534   \n",
       "\n",
       "   DistanceTo12thCluster  DistanceTo13thCluster  DistanceTo14thCluster  \\\n",
       "0               1.073963               0.770392               0.929518   \n",
       "1               0.870792               0.600673               0.756438   \n",
       "2               1.037589               0.675989               0.768604   \n",
       "3               0.866976               0.743663               0.797625   \n",
       "4               0.853987               0.605490               0.685166   \n",
       "\n",
       "   DistanceTo15thCluster  \n",
       "0               0.692307  \n",
       "1               0.536264  \n",
       "2               0.583091  \n",
       "3               0.661652  \n",
       "4               0.566810  "
      ]
     },
     "execution_count": 15,
     "metadata": {},
     "output_type": "execute_result"
    }
   ],
   "source": [
    "from sklearn.decomposition import PCA\n",
    "\n",
    "centered = embeddings - embeddings.mean()\n",
    "pca = PCA(n_components=30)\n",
    "pca_decomp = pca.fit_transform(centered)\n",
    "\n",
    "from sklearn.cluster import KMeans\n",
    "\n",
    "kmeans = KMeans(n_clusters=15, random_state=0).fit(pca_decomp)\n",
    "df_posts_clustering = df_posts.copy()\n",
    "df_posts_clustering['TextCluster'] = kmeans.labels_\n",
    "\n",
    "dists_columns = ['DistanceTo1thCluster',\n",
    "                 'DistanceTo2thCluster',\n",
    "                 'DistanceTo3thCluster',\n",
    "                 'DistanceTo4thCluster',\n",
    "                 'DistanceTo5thCluster',\n",
    "                 'DistanceTo6thCluster',\n",
    "                 'DistanceTo7thCluster',\n",
    "                 'DistanceTo8thCluster',\n",
    "                 'DistanceTo9thCluster',\n",
    "                 'DistanceTo10thCluster',\n",
    "                 'DistanceTo11thCluster',\n",
    "                 'DistanceTo12thCluster',\n",
    "                 'DistanceTo13thCluster',\n",
    "                 'DistanceTo14thCluster',\n",
    "                 'DistanceTo15thCluster']\n",
    "df_dists = pd.DataFrame(data=kmeans.transform(pca_decomp), columns=dists_columns)\n",
    "\n",
    "df_posts_clustering = pd.concat((df_posts_clustering, df_dists), axis=1)\n",
    "df_posts_clustering = df_posts_clustering.drop(['text'], axis=1)\n",
    "df_posts_clustering.head()"
   ]
  },
  {
   "cell_type": "code",
   "execution_count": 16,
   "id": "1e4f34a3",
   "metadata": {
    "execution": {
     "iopub.execute_input": "2022-10-06T08:53:20.984219Z",
     "iopub.status.busy": "2022-10-06T08:53:20.983906Z",
     "iopub.status.idle": "2022-10-06T08:53:21.309639Z",
     "shell.execute_reply": "2022-10-06T08:53:21.308697Z"
    },
    "papermill": {
     "duration": 0.367317,
     "end_time": "2022-10-06T08:53:21.311976",
     "exception": false,
     "start_time": "2022-10-06T08:53:20.944659",
     "status": "completed"
    },
    "tags": []
   },
   "outputs": [
    {
     "data": {
      "text/html": [
       "<div>\n",
       "<style scoped>\n",
       "    .dataframe tbody tr th:only-of-type {\n",
       "        vertical-align: middle;\n",
       "    }\n",
       "\n",
       "    .dataframe tbody tr th {\n",
       "        vertical-align: top;\n",
       "    }\n",
       "\n",
       "    .dataframe thead th {\n",
       "        text-align: right;\n",
       "    }\n",
       "</style>\n",
       "<table border=\"1\" class=\"dataframe\">\n",
       "  <thead>\n",
       "    <tr style=\"text-align: right;\">\n",
       "      <th></th>\n",
       "      <th>timestamp</th>\n",
       "      <th>user_id</th>\n",
       "      <th>post_id</th>\n",
       "      <th>target</th>\n",
       "      <th>gender</th>\n",
       "      <th>age</th>\n",
       "      <th>country</th>\n",
       "      <th>city</th>\n",
       "      <th>exp_group</th>\n",
       "      <th>os</th>\n",
       "      <th>...</th>\n",
       "      <th>DistanceTo6thCluster</th>\n",
       "      <th>DistanceTo7thCluster</th>\n",
       "      <th>DistanceTo8thCluster</th>\n",
       "      <th>DistanceTo9thCluster</th>\n",
       "      <th>DistanceTo10thCluster</th>\n",
       "      <th>DistanceTo11thCluster</th>\n",
       "      <th>DistanceTo12thCluster</th>\n",
       "      <th>DistanceTo13thCluster</th>\n",
       "      <th>DistanceTo14thCluster</th>\n",
       "      <th>DistanceTo15thCluster</th>\n",
       "    </tr>\n",
       "  </thead>\n",
       "  <tbody>\n",
       "    <tr>\n",
       "      <th>0</th>\n",
       "      <td>2021-10-25 06:56:09</td>\n",
       "      <td>3726</td>\n",
       "      <td>1758</td>\n",
       "      <td>0</td>\n",
       "      <td>0</td>\n",
       "      <td>22</td>\n",
       "      <td>Russia</td>\n",
       "      <td>Novosibirsk</td>\n",
       "      <td>1</td>\n",
       "      <td>Android</td>\n",
       "      <td>...</td>\n",
       "      <td>1.130182</td>\n",
       "      <td>0.903587</td>\n",
       "      <td>0.921397</td>\n",
       "      <td>0.809283</td>\n",
       "      <td>1.056798</td>\n",
       "      <td>1.175230</td>\n",
       "      <td>0.882895</td>\n",
       "      <td>0.674654</td>\n",
       "      <td>0.951545</td>\n",
       "      <td>0.997468</td>\n",
       "    </tr>\n",
       "    <tr>\n",
       "      <th>1</th>\n",
       "      <td>2021-10-24 06:48:25</td>\n",
       "      <td>54095</td>\n",
       "      <td>6641</td>\n",
       "      <td>0</td>\n",
       "      <td>0</td>\n",
       "      <td>34</td>\n",
       "      <td>Ukraine</td>\n",
       "      <td>Mariupol</td>\n",
       "      <td>3</td>\n",
       "      <td>iOS</td>\n",
       "      <td>...</td>\n",
       "      <td>0.951682</td>\n",
       "      <td>1.092980</td>\n",
       "      <td>1.262926</td>\n",
       "      <td>0.887997</td>\n",
       "      <td>0.419723</td>\n",
       "      <td>0.550954</td>\n",
       "      <td>1.017470</td>\n",
       "      <td>1.035879</td>\n",
       "      <td>0.652880</td>\n",
       "      <td>1.048928</td>\n",
       "    </tr>\n",
       "    <tr>\n",
       "      <th>2</th>\n",
       "      <td>2021-11-07 13:30:24</td>\n",
       "      <td>54095</td>\n",
       "      <td>1267</td>\n",
       "      <td>1</td>\n",
       "      <td>0</td>\n",
       "      <td>34</td>\n",
       "      <td>Ukraine</td>\n",
       "      <td>Mariupol</td>\n",
       "      <td>3</td>\n",
       "      <td>iOS</td>\n",
       "      <td>...</td>\n",
       "      <td>1.120819</td>\n",
       "      <td>0.450507</td>\n",
       "      <td>1.222398</td>\n",
       "      <td>0.546754</td>\n",
       "      <td>0.879052</td>\n",
       "      <td>1.010304</td>\n",
       "      <td>0.982070</td>\n",
       "      <td>0.565227</td>\n",
       "      <td>0.725249</td>\n",
       "      <td>0.458224</td>\n",
       "    </tr>\n",
       "    <tr>\n",
       "      <th>3</th>\n",
       "      <td>2021-12-02 07:21:12</td>\n",
       "      <td>3726</td>\n",
       "      <td>5716</td>\n",
       "      <td>0</td>\n",
       "      <td>0</td>\n",
       "      <td>22</td>\n",
       "      <td>Russia</td>\n",
       "      <td>Novosibirsk</td>\n",
       "      <td>1</td>\n",
       "      <td>Android</td>\n",
       "      <td>...</td>\n",
       "      <td>0.893501</td>\n",
       "      <td>0.865182</td>\n",
       "      <td>1.196891</td>\n",
       "      <td>0.709855</td>\n",
       "      <td>0.372075</td>\n",
       "      <td>0.502963</td>\n",
       "      <td>0.865474</td>\n",
       "      <td>0.840037</td>\n",
       "      <td>0.504786</td>\n",
       "      <td>0.785299</td>\n",
       "    </tr>\n",
       "    <tr>\n",
       "      <th>4</th>\n",
       "      <td>2021-12-13 22:30:30</td>\n",
       "      <td>3726</td>\n",
       "      <td>3694</td>\n",
       "      <td>1</td>\n",
       "      <td>0</td>\n",
       "      <td>22</td>\n",
       "      <td>Russia</td>\n",
       "      <td>Novosibirsk</td>\n",
       "      <td>1</td>\n",
       "      <td>Android</td>\n",
       "      <td>...</td>\n",
       "      <td>0.865439</td>\n",
       "      <td>1.147148</td>\n",
       "      <td>0.297124</td>\n",
       "      <td>1.075002</td>\n",
       "      <td>1.188596</td>\n",
       "      <td>1.302409</td>\n",
       "      <td>0.849209</td>\n",
       "      <td>1.120653</td>\n",
       "      <td>1.144911</td>\n",
       "      <td>1.225778</td>\n",
       "    </tr>\n",
       "  </tbody>\n",
       "</table>\n",
       "<p>5 rows × 32 columns</p>\n",
       "</div>"
      ],
      "text/plain": [
       "            timestamp  user_id  post_id  target  gender  age  country  \\\n",
       "0 2021-10-25 06:56:09     3726     1758       0       0   22   Russia   \n",
       "1 2021-10-24 06:48:25    54095     6641       0       0   34  Ukraine   \n",
       "2 2021-11-07 13:30:24    54095     1267       1       0   34  Ukraine   \n",
       "3 2021-12-02 07:21:12     3726     5716       0       0   22   Russia   \n",
       "4 2021-12-13 22:30:30     3726     3694       1       0   22   Russia   \n",
       "\n",
       "          city  exp_group       os  ... DistanceTo6thCluster  \\\n",
       "0  Novosibirsk          1  Android  ...             1.130182   \n",
       "1     Mariupol          3      iOS  ...             0.951682   \n",
       "2     Mariupol          3      iOS  ...             1.120819   \n",
       "3  Novosibirsk          1  Android  ...             0.893501   \n",
       "4  Novosibirsk          1  Android  ...             0.865439   \n",
       "\n",
       "  DistanceTo7thCluster  DistanceTo8thCluster  DistanceTo9thCluster  \\\n",
       "0             0.903587              0.921397              0.809283   \n",
       "1             1.092980              1.262926              0.887997   \n",
       "2             0.450507              1.222398              0.546754   \n",
       "3             0.865182              1.196891              0.709855   \n",
       "4             1.147148              0.297124              1.075002   \n",
       "\n",
       "   DistanceTo10thCluster DistanceTo11thCluster  DistanceTo12thCluster  \\\n",
       "0               1.056798              1.175230               0.882895   \n",
       "1               0.419723              0.550954               1.017470   \n",
       "2               0.879052              1.010304               0.982070   \n",
       "3               0.372075              0.502963               0.865474   \n",
       "4               1.188596              1.302409               0.849209   \n",
       "\n",
       "   DistanceTo13thCluster  DistanceTo14thCluster  DistanceTo15thCluster  \n",
       "0               0.674654               0.951545               0.997468  \n",
       "1               1.035879               0.652880               1.048928  \n",
       "2               0.565227               0.725249               0.458224  \n",
       "3               0.840037               0.504786               0.785299  \n",
       "4               1.120653               1.144911               1.225778  \n",
       "\n",
       "[5 rows x 32 columns]"
      ]
     },
     "execution_count": 16,
     "metadata": {},
     "output_type": "execute_result"
    }
   ],
   "source": [
    "data = pd.merge(data,\n",
    "              df_posts_clustering,\n",
    "              on='post_id',\n",
    "              how='left')\n",
    "\n",
    "data.head()"
   ]
  },
  {
   "cell_type": "markdown",
   "id": "a519af45",
   "metadata": {
    "papermill": {
     "duration": 0.020963,
     "end_time": "2022-10-06T08:53:21.354075",
     "exception": false,
     "start_time": "2022-10-06T08:53:21.333112",
     "status": "completed"
    },
    "tags": []
   },
   "source": [
    "#### Likes per user"
   ]
  },
  {
   "cell_type": "code",
   "execution_count": 17,
   "id": "bd75a159",
   "metadata": {
    "execution": {
     "iopub.execute_input": "2022-10-06T08:53:21.397067Z",
     "iopub.status.busy": "2022-10-06T08:53:21.396178Z",
     "iopub.status.idle": "2022-10-06T08:53:31.970955Z",
     "shell.execute_reply": "2022-10-06T08:53:31.969759Z"
    },
    "papermill": {
     "duration": 10.598968,
     "end_time": "2022-10-06T08:53:31.973638",
     "exception": false,
     "start_time": "2022-10-06T08:53:21.374670",
     "status": "completed"
    },
    "tags": []
   },
   "outputs": [
    {
     "data": {
      "text/html": [
       "<div>\n",
       "<style scoped>\n",
       "    .dataframe tbody tr th:only-of-type {\n",
       "        vertical-align: middle;\n",
       "    }\n",
       "\n",
       "    .dataframe tbody tr th {\n",
       "        vertical-align: top;\n",
       "    }\n",
       "\n",
       "    .dataframe thead th {\n",
       "        text-align: right;\n",
       "    }\n",
       "</style>\n",
       "<table border=\"1\" class=\"dataframe\">\n",
       "  <thead>\n",
       "    <tr style=\"text-align: right;\">\n",
       "      <th></th>\n",
       "      <th>user_id</th>\n",
       "      <th>user_total_likes</th>\n",
       "    </tr>\n",
       "  </thead>\n",
       "  <tbody>\n",
       "    <tr>\n",
       "      <th>0</th>\n",
       "      <td>200</td>\n",
       "      <td>37</td>\n",
       "    </tr>\n",
       "    <tr>\n",
       "      <th>1</th>\n",
       "      <td>201</td>\n",
       "      <td>46</td>\n",
       "    </tr>\n",
       "    <tr>\n",
       "      <th>2</th>\n",
       "      <td>202</td>\n",
       "      <td>69</td>\n",
       "    </tr>\n",
       "    <tr>\n",
       "      <th>3</th>\n",
       "      <td>203</td>\n",
       "      <td>43</td>\n",
       "    </tr>\n",
       "    <tr>\n",
       "      <th>4</th>\n",
       "      <td>204</td>\n",
       "      <td>13</td>\n",
       "    </tr>\n",
       "    <tr>\n",
       "      <th>...</th>\n",
       "      <td>...</td>\n",
       "      <td>...</td>\n",
       "    </tr>\n",
       "    <tr>\n",
       "      <th>163177</th>\n",
       "      <td>168548</td>\n",
       "      <td>18</td>\n",
       "    </tr>\n",
       "    <tr>\n",
       "      <th>163178</th>\n",
       "      <td>168549</td>\n",
       "      <td>21</td>\n",
       "    </tr>\n",
       "    <tr>\n",
       "      <th>163179</th>\n",
       "      <td>168550</td>\n",
       "      <td>37</td>\n",
       "    </tr>\n",
       "    <tr>\n",
       "      <th>163180</th>\n",
       "      <td>168551</td>\n",
       "      <td>43</td>\n",
       "    </tr>\n",
       "    <tr>\n",
       "      <th>163181</th>\n",
       "      <td>168552</td>\n",
       "      <td>10</td>\n",
       "    </tr>\n",
       "  </tbody>\n",
       "</table>\n",
       "<p>163182 rows × 2 columns</p>\n",
       "</div>"
      ],
      "text/plain": [
       "        user_id  user_total_likes\n",
       "0           200                37\n",
       "1           201                46\n",
       "2           202                69\n",
       "3           203                43\n",
       "4           204                13\n",
       "...         ...               ...\n",
       "163177   168548                18\n",
       "163178   168549                21\n",
       "163179   168550                37\n",
       "163180   168551                43\n",
       "163181   168552                10\n",
       "\n",
       "[163182 rows x 2 columns]"
      ]
     },
     "execution_count": 17,
     "metadata": {},
     "output_type": "execute_result"
    }
   ],
   "source": [
    "# SQL request from database to make data available for all users.\n",
    "# Timestamp condition is due to prevent data leakage. See below.\n",
    "\n",
    "df_utl = pd.read_sql(\n",
    "    '''\n",
    "    SELECT user_id, COUNT(post_id) AS user_total_likes\n",
    "    FROM public.feed_data\n",
    "    WHERE timestamp < '2021-12-15 00:00:00' AND target = 1\n",
    "    GROUP BY user_id\n",
    "    ''',\n",
    "    conn_uri\n",
    ")\n",
    "df_utl"
   ]
  },
  {
   "cell_type": "code",
   "execution_count": 18,
   "id": "0a8ed40a",
   "metadata": {
    "execution": {
     "iopub.execute_input": "2022-10-06T08:53:32.022492Z",
     "iopub.status.busy": "2022-10-06T08:53:32.022169Z",
     "iopub.status.idle": "2022-10-06T08:53:32.199023Z",
     "shell.execute_reply": "2022-10-06T08:53:32.197917Z"
    },
    "papermill": {
     "duration": 0.204408,
     "end_time": "2022-10-06T08:53:32.201991",
     "exception": false,
     "start_time": "2022-10-06T08:53:31.997583",
     "status": "completed"
    },
    "tags": []
   },
   "outputs": [],
   "source": [
    "data = pd.merge(data,\n",
    "              df_utl,\n",
    "              on='user_id',\n",
    "              how='left')\n",
    "data['user_total_likes'] = data['user_total_likes'].fillna(0).astype(int)"
   ]
  },
  {
   "cell_type": "markdown",
   "id": "b9ce7c0e",
   "metadata": {
    "papermill": {
     "duration": 0.021133,
     "end_time": "2022-10-06T08:53:32.245070",
     "exception": false,
     "start_time": "2022-10-06T08:53:32.223937",
     "status": "completed"
    },
    "tags": []
   },
   "source": [
    "## CatBoost Training"
   ]
  },
  {
   "cell_type": "code",
   "execution_count": 19,
   "id": "54daeb2e",
   "metadata": {
    "execution": {
     "iopub.execute_input": "2022-10-06T08:53:32.295462Z",
     "iopub.status.busy": "2022-10-06T08:53:32.295114Z",
     "iopub.status.idle": "2022-10-06T08:53:32.301655Z",
     "shell.execute_reply": "2022-10-06T08:53:32.300738Z"
    },
    "papermill": {
     "duration": 0.03572,
     "end_time": "2022-10-06T08:53:32.303599",
     "exception": false,
     "start_time": "2022-10-06T08:53:32.267879",
     "status": "completed"
    },
    "tags": []
   },
   "outputs": [
    {
     "data": {
      "text/plain": [
       "Index(['timestamp', 'user_id', 'post_id', 'target', 'gender', 'age', 'country',\n",
       "       'city', 'exp_group', 'os', 'source', 'date', 'month', 'day_of_week',\n",
       "       'hour', 'topic', 'TextCluster', 'DistanceTo1thCluster',\n",
       "       'DistanceTo2thCluster', 'DistanceTo3thCluster', 'DistanceTo4thCluster',\n",
       "       'DistanceTo5thCluster', 'DistanceTo6thCluster', 'DistanceTo7thCluster',\n",
       "       'DistanceTo8thCluster', 'DistanceTo9thCluster', 'DistanceTo10thCluster',\n",
       "       'DistanceTo11thCluster', 'DistanceTo12thCluster',\n",
       "       'DistanceTo13thCluster', 'DistanceTo14thCluster',\n",
       "       'DistanceTo15thCluster', 'user_total_likes'],\n",
       "      dtype='object')"
      ]
     },
     "execution_count": 19,
     "metadata": {},
     "output_type": "execute_result"
    }
   ],
   "source": [
    "data.columns"
   ]
  },
  {
   "cell_type": "code",
   "execution_count": 20,
   "id": "7d0b658a",
   "metadata": {
    "execution": {
     "iopub.execute_input": "2022-10-06T08:53:32.348043Z",
     "iopub.status.busy": "2022-10-06T08:53:32.347241Z",
     "iopub.status.idle": "2022-10-06T08:53:32.563719Z",
     "shell.execute_reply": "2022-10-06T08:53:32.562736Z"
    },
    "papermill": {
     "duration": 0.241038,
     "end_time": "2022-10-06T08:53:32.566255",
     "exception": false,
     "start_time": "2022-10-06T08:53:32.325217",
     "status": "completed"
    },
    "tags": []
   },
   "outputs": [],
   "source": [
    "# Dropping redundant columns\n",
    "\n",
    "data = data.drop(['user_id', 'post_id', 'date'], axis=1)"
   ]
  },
  {
   "cell_type": "code",
   "execution_count": 21,
   "id": "5bad1203",
   "metadata": {
    "execution": {
     "iopub.execute_input": "2022-10-06T08:53:32.610017Z",
     "iopub.status.busy": "2022-10-06T08:53:32.609149Z",
     "iopub.status.idle": "2022-10-06T08:53:34.291793Z",
     "shell.execute_reply": "2022-10-06T08:53:34.290699Z"
    },
    "papermill": {
     "duration": 1.706485,
     "end_time": "2022-10-06T08:53:34.294088",
     "exception": false,
     "start_time": "2022-10-06T08:53:32.587603",
     "status": "completed"
    },
    "tags": []
   },
   "outputs": [
    {
     "data": {
      "text/plain": [
       "(Timestamp('2021-10-01 06:01:40'), Timestamp('2021-12-29 23:39:10'))"
      ]
     },
     "execution_count": 21,
     "metadata": {},
     "output_type": "execute_result"
    }
   ],
   "source": [
    "# Since we have a time-series data, we can split train and test on a certain date.\n",
    "# That way we test a model generalization ability for future prediction.\n",
    "\n",
    "min(data.timestamp), max(data.timestamp)"
   ]
  },
  {
   "cell_type": "code",
   "execution_count": 22,
   "id": "5c666ff7",
   "metadata": {
    "execution": {
     "iopub.execute_input": "2022-10-06T08:53:34.339118Z",
     "iopub.status.busy": "2022-10-06T08:53:34.338238Z",
     "iopub.status.idle": "2022-10-06T08:53:34.503256Z",
     "shell.execute_reply": "2022-10-06T08:53:34.502219Z"
    },
    "papermill": {
     "duration": 0.190441,
     "end_time": "2022-10-06T08:53:34.505772",
     "exception": false,
     "start_time": "2022-10-06T08:53:34.315331",
     "status": "completed"
    },
    "tags": []
   },
   "outputs": [],
   "source": [
    "# Let's split on 2021-12-15\n",
    "# It should provide roughly an 80% to 20% ratio\n",
    "\n",
    "data_train = data[data.timestamp < '2021-12-15']\n",
    "data_test = data[data.timestamp >= '2021-12-15']\n",
    "\n",
    "data_train = data_train.drop('timestamp', axis=1)\n",
    "data_test = data_test.drop('timestamp', axis=1)"
   ]
  },
  {
   "cell_type": "code",
   "execution_count": 23,
   "id": "1541cdb4",
   "metadata": {
    "execution": {
     "iopub.execute_input": "2022-10-06T08:53:34.550621Z",
     "iopub.status.busy": "2022-10-06T08:53:34.548843Z",
     "iopub.status.idle": "2022-10-06T08:53:34.598713Z",
     "shell.execute_reply": "2022-10-06T08:53:34.597727Z"
    },
    "papermill": {
     "duration": 0.073918,
     "end_time": "2022-10-06T08:53:34.601058",
     "exception": false,
     "start_time": "2022-10-06T08:53:34.527140",
     "status": "completed"
    },
    "tags": []
   },
   "outputs": [],
   "source": [
    "X_train = data_train.drop('target', axis=1)\n",
    "X_test = data_test.drop('target', axis=1)\n",
    "\n",
    "y_train = data_train['target']\n",
    "y_test = data_test['target']"
   ]
  },
  {
   "cell_type": "code",
   "execution_count": 24,
   "id": "dafaf683",
   "metadata": {
    "execution": {
     "iopub.execute_input": "2022-10-06T08:53:34.644526Z",
     "iopub.status.busy": "2022-10-06T08:53:34.643923Z",
     "iopub.status.idle": "2022-10-06T08:53:34.650065Z",
     "shell.execute_reply": "2022-10-06T08:53:34.649034Z"
    },
    "papermill": {
     "duration": 0.030069,
     "end_time": "2022-10-06T08:53:34.652276",
     "exception": false,
     "start_time": "2022-10-06T08:53:34.622207",
     "status": "completed"
    },
    "tags": []
   },
   "outputs": [
    {
     "data": {
      "text/plain": [
       "((319383,), (64965,))"
      ]
     },
     "execution_count": 24,
     "metadata": {},
     "output_type": "execute_result"
    }
   ],
   "source": [
    "y_train.shape, y_test.shape"
   ]
  },
  {
   "cell_type": "code",
   "execution_count": 25,
   "id": "770a3d1f",
   "metadata": {
    "execution": {
     "iopub.execute_input": "2022-10-06T08:53:34.696839Z",
     "iopub.status.busy": "2022-10-06T08:53:34.696007Z",
     "iopub.status.idle": "2022-10-06T09:05:18.012000Z",
     "shell.execute_reply": "2022-10-06T09:05:18.010778Z"
    },
    "papermill": {
     "duration": 703.341025,
     "end_time": "2022-10-06T09:05:18.014670",
     "exception": false,
     "start_time": "2022-10-06T08:53:34.673645",
     "status": "completed"
    },
    "tags": []
   },
   "outputs": [
    {
     "name": "stdout",
     "output_type": "stream",
     "text": [
      "Learning rate set to 0.120858\n",
      "0:\tlearn: 0.5980283\ttotal: 930ms\tremaining: 15m 28s\n",
      "100:\tlearn: 0.3198474\ttotal: 1m 4s\tremaining: 9m 31s\n",
      "200:\tlearn: 0.3170493\ttotal: 2m 14s\tremaining: 8m 54s\n",
      "300:\tlearn: 0.3150223\ttotal: 3m 23s\tremaining: 7m 52s\n",
      "400:\tlearn: 0.3131864\ttotal: 4m 32s\tremaining: 6m 47s\n",
      "500:\tlearn: 0.3115503\ttotal: 5m 42s\tremaining: 5m 41s\n",
      "600:\tlearn: 0.3100167\ttotal: 6m 54s\tremaining: 4m 34s\n",
      "700:\tlearn: 0.3084355\ttotal: 8m 4s\tremaining: 3m 26s\n",
      "800:\tlearn: 0.3068124\ttotal: 9m 14s\tremaining: 2m 17s\n",
      "900:\tlearn: 0.3051436\ttotal: 10m 24s\tremaining: 1m 8s\n",
      "999:\tlearn: 0.3037159\ttotal: 11m 35s\tremaining: 0us\n"
     ]
    },
    {
     "data": {
      "text/plain": [
       "<catboost.core.CatBoostClassifier at 0x7f985a05fd10>"
      ]
     },
     "execution_count": 25,
     "metadata": {},
     "output_type": "execute_result"
    }
   ],
   "source": [
    "from catboost import CatBoostClassifier\n",
    "\n",
    "cat_cols = ['TextCluster', 'topic', 'gender', 'country', 'city', 'exp_group', 'os', 'source', 'month', 'day_of_week', 'hour']\n",
    "\n",
    "model = CatBoostClassifier(\n",
    "    loss_function='Logloss',\n",
    "    cat_features=cat_cols,\n",
    "    verbose=100\n",
    ")\n",
    "\n",
    "model.fit(X_train, y_train)"
   ]
  },
  {
   "cell_type": "code",
   "execution_count": 26,
   "id": "9664e1f8",
   "metadata": {
    "execution": {
     "iopub.execute_input": "2022-10-06T09:05:18.060673Z",
     "iopub.status.busy": "2022-10-06T09:05:18.060328Z",
     "iopub.status.idle": "2022-10-06T09:05:19.549817Z",
     "shell.execute_reply": "2022-10-06T09:05:19.547326Z"
    },
    "papermill": {
     "duration": 1.515121,
     "end_time": "2022-10-06T09:05:19.552245",
     "exception": false,
     "start_time": "2022-10-06T09:05:18.037124",
     "status": "completed"
    },
    "tags": []
   },
   "outputs": [
    {
     "name": "stdout",
     "output_type": "stream",
     "text": [
      "              precision    recall  f1-score   support\n",
      "\n",
      "           0      0.880     1.000     0.936     57166\n",
      "           1      0.000     0.000     0.000      7799\n",
      "\n",
      "    accuracy                          0.880     64965\n",
      "   macro avg      0.440     0.500     0.468     64965\n",
      "weighted avg      0.774     0.880     0.824     64965\n",
      "\n"
     ]
    }
   ],
   "source": [
    "from sklearn.metrics import classification_report, f1_score, roc_curve, auc\n",
    "from sklearn.metrics import RocCurveDisplay\n",
    "\n",
    "y_pred = model.predict(X_test)\n",
    "print(classification_report(y_test, y_pred, digits=3))"
   ]
  },
  {
   "cell_type": "code",
   "execution_count": 27,
   "id": "77c2be8c",
   "metadata": {
    "execution": {
     "iopub.execute_input": "2022-10-06T09:05:19.600456Z",
     "iopub.status.busy": "2022-10-06T09:05:19.598789Z",
     "iopub.status.idle": "2022-10-06T09:05:21.271607Z",
     "shell.execute_reply": "2022-10-06T09:05:21.270687Z"
    },
    "papermill": {
     "duration": 1.697967,
     "end_time": "2022-10-06T09:05:21.273834",
     "exception": false,
     "start_time": "2022-10-06T09:05:19.575867",
     "status": "completed"
    },
    "tags": []
   },
   "outputs": [
    {
     "name": "stdout",
     "output_type": "stream",
     "text": [
      "roc_auc = 0.629\n"
     ]
    },
    {
     "data": {
      "text/plain": [
       "<sklearn.metrics._plot.roc_curve.RocCurveDisplay at 0x7f9912cfcdd0>"
      ]
     },
     "execution_count": 27,
     "metadata": {},
     "output_type": "execute_result"
    },
    {
     "data": {
      "image/png": "[encoded data removed]",
      "text/plain": [
       "<Figure size 432x288 with 1 Axes>"
      ]
     },
     "metadata": {
      "needs_background": "light"
     },
     "output_type": "display_data"
    }
   ],
   "source": [
    "fpr, tpr, thresholds = roc_curve(y_test, model.predict_proba(X_test)[:, 1])\n",
    "roc_auc = auc(fpr, tpr)\n",
    "print(f'roc_auc = {roc_auc.round(3)}')\n",
    "RocCurveDisplay(fpr=fpr, tpr=tpr, roc_auc=roc_auc).plot()"
   ]
  },
  {
   "cell_type": "code",
   "execution_count": 28,
   "id": "59cab219",
   "metadata": {
    "execution": {
     "iopub.execute_input": "2022-10-06T09:05:21.321443Z",
     "iopub.status.busy": "2022-10-06T09:05:21.320588Z",
     "iopub.status.idle": "2022-10-06T09:05:21.735158Z",
     "shell.execute_reply": "2022-10-06T09:05:21.732841Z"
    },
    "papermill": {
     "duration": 0.440829,
     "end_time": "2022-10-06T09:05:21.737997",
     "exception": false,
     "start_time": "2022-10-06T09:05:21.297168",
     "status": "completed"
    },
    "tags": []
   },
   "outputs": [
    {
     "data": {
      "text/plain": [
       "Text(0.5, 1.0, 'Feature Importance')"
      ]
     },
     "execution_count": 28,
     "metadata": {},
     "output_type": "execute_result"
    },
    {
     "data": {
      "image/png": "[encoded data removed]",
      "text/plain": [
       "<Figure size 864x432 with 1 Axes>"
      ]
     },
     "metadata": {
      "needs_background": "light"
     },
     "output_type": "display_data"
    }
   ],
   "source": [
    "feature_importance = model.feature_importances_\n",
    "sorted_idx = np.argsort(feature_importance)\n",
    "fig = plt.figure(figsize=(12, 6))\n",
    "plt.barh(range(len(sorted_idx)), feature_importance[sorted_idx], align='center')\n",
    "plt.yticks(range(len(sorted_idx)), np.array(X_test.columns)[sorted_idx])\n",
    "plt.title('Feature Importance')"
   ]
  },
  {
   "cell_type": "code",
   "execution_count": 29,
   "id": "b323105c",
   "metadata": {
    "execution": {
     "iopub.execute_input": "2022-10-06T09:05:21.836948Z",
     "iopub.status.busy": "2022-10-06T09:05:21.836384Z",
     "iopub.status.idle": "2022-10-06T09:05:22.016849Z",
     "shell.execute_reply": "2022-10-06T09:05:22.015690Z"
    },
    "papermill": {
     "duration": 0.224431,
     "end_time": "2022-10-06T09:05:22.019023",
     "exception": false,
     "start_time": "2022-10-06T09:05:21.794592",
     "status": "completed"
    },
    "tags": []
   },
   "outputs": [],
   "source": [
    "# Saving model to use it in a service\n",
    "\n",
    "model.save_model('catboost_model_02_roberta', format='cbm')"
   ]
  },
  {
   "cell_type": "code",
   "execution_count": 30,
   "id": "c931798c",
   "metadata": {
    "execution": {
     "iopub.execute_input": "2022-10-06T09:05:22.095006Z",
     "iopub.status.busy": "2022-10-06T09:05:22.094253Z",
     "iopub.status.idle": "2022-10-06T09:05:31.194258Z",
     "shell.execute_reply": "2022-10-06T09:05:31.193218Z"
    },
    "papermill": {
     "duration": 9.140387,
     "end_time": "2022-10-06T09:05:31.196695",
     "exception": false,
     "start_time": "2022-10-06T09:05:22.056308",
     "status": "completed"
    },
    "tags": []
   },
   "outputs": [],
   "source": [
    "# Saving text clustering features to the database\n",
    "\n",
    "df_posts_clustering.to_sql(\n",
    "   \"ignatev_df_posts_clustering_roberta\",\n",
    "    con=conn_uri,\n",
    "    schema=\"public\",\n",
    "    if_exists='replace'\n",
    "   )"
   ]
  },
  {
   "cell_type": "markdown",
   "id": "6a94ac8f",
   "metadata": {
    "papermill": {
     "duration": 0.022512,
     "end_time": "2022-10-06T09:05:31.242966",
     "exception": false,
     "start_time": "2022-10-06T09:05:31.220454",
     "status": "completed"
    },
    "tags": []
   },
   "source": [
    "## Performance Metrics"
   ]
  },
  {
   "attachments": {
    "7ec189e5-8744-46f7-bcaf-f26fa614673d.png": {
     "image/png": "[encoded data removed]"
    }
   },
   "cell_type": "markdown",
   "id": "631b1e91",
   "metadata": {
    "papermill": {
     "duration": 0.022508,
     "end_time": "2022-10-06T09:05:31.288616",
     "exception": false,
     "start_time": "2022-10-06T09:05:31.266108",
     "status": "completed"
    },
    "tags": []
   },
   "source": [
    "Performance assessment was implemented in web-based checker using **hitrate@5** metric:\n",
    "\n",
    "![image.png](attachment:7ec189e5-8744-46f7-bcaf-f26fa614673d.png)"
   ]
  },
  {
   "attachments": {
    "f7f769fa-f4c9-4848-95e2-1e64dc4c90c1.png": {
     "image/png": "[encoded data removed]"
    }
   },
   "cell_type": "markdown",
   "id": "eddb1304",
   "metadata": {
    "papermill": {
     "duration": 0.023184,
     "end_time": "2022-10-06T09:05:31.334411",
     "exception": false,
     "start_time": "2022-10-06T09:05:31.311227",
     "status": "completed"
    },
    "tags": []
   },
   "source": [
    "Checker results:\n",
    "\n",
    "![image.png](attachment:f7f769fa-f4c9-4848-95e2-1e64dc4c90c1.png)"
   ]
  }
 ],
 "metadata": {
  "kernelspec": {
   "display_name": "Python 3",
   "language": "python",
   "name": "python3"
  },
  "language_info": {
   "codemirror_mode": {
    "name": "ipython",
    "version": 3
   },
   "file_extension": ".py",
   "mimetype": "text/x-python",
   "name": "python",
   "nbconvert_exporter": "python",
   "pygments_lexer": "ipython3",
   "version": "3.7.12"
  },
  "papermill": {
   "default_parameters": {},
   "duration": 924.711541,
   "end_time": "2022-10-06T09:05:34.672300",
   "environment_variables": {},
   "exception": null,
   "input_path": "__notebook__.ipynb",
   "output_path": "__notebook__.ipynb",
   "parameters": {},
   "start_time": "2022-10-06T08:50:09.960759",
   "version": "2.3.4"
  },
  "widgets": {
   "application/vnd.jupyter.widget-state+json": {
    "state": {
     "02491f5e0daf42b89ca0b85ebf714b2f": {
      "model_module": "@jupyter-widgets/base",
      "model_module_version": "1.2.0",
      "model_name": "LayoutModel",
      "state": {
       "_model_module": "@jupyter-widgets/base",
       "_model_module_version": "1.2.0",
       "_model_name": "LayoutModel",
       "_view_count": null,
       "_view_module": "@jupyter-widgets/base",
       "_view_module_version": "1.2.0",
       "_view_name": "LayoutView",
       "align_content": null,
       "align_items": null,
       "align_self": null,
       "border": null,
       "bottom": null,
       "display": null,
       "flex": null,
       "flex_flow": null,
       "grid_area": null,
       "grid_auto_columns": null,
       "grid_auto_flow": null,
       "grid_auto_rows": null,
       "grid_column": null,
       "grid_gap": null,
       "grid_row": null,
       "grid_template_areas": null,
       "grid_template_columns": null,
       "grid_template_rows": null,
       "height": null,
       "justify_content": null,
       "justify_items": null,
       "left": null,
       "margin": null,
       "max_height": null,
       "max_width": null,
       "min_height": null,
       "min_width": null,
       "object_fit": null,
       "object_position": null,
       "order": null,
       "overflow": null,
       "overflow_x": null,
       "overflow_y": null,
       "padding": null,
       "right": null,
       "top": null,
       "visibility": null,
       "width": null
      }
     },
     "10bab207f6fd4f708e0f70c0a2607947": {
      "model_module": "@jupyter-widgets/base",
      "model_module_version": "1.2.0",
      "model_name": "LayoutModel",
      "state": {
       "_model_module": "@jupyter-widgets/base",
       "_model_module_version": "1.2.0",
       "_model_name": "LayoutModel",
       "_view_count": null,
       "_view_module": "@jupyter-widgets/base",
       "_view_module_version": "1.2.0",
       "_view_name": "LayoutView",
       "align_content": null,
       "align_items": null,
       "align_self": null,
       "border": null,
       "bottom": null,
       "display": null,
       "flex": null,
       "flex_flow": null,
       "grid_area": null,
       "grid_auto_columns": null,
       "grid_auto_flow": null,
       "grid_auto_rows": null,
       "grid_column": null,
       "grid_gap": null,
       "grid_row": null,
       "grid_template_areas": null,
       "grid_template_columns": null,
       "grid_template_rows": null,
       "height": null,
       "justify_content": null,
       "justify_items": null,
       "left": null,
       "margin": null,
       "max_height": null,
       "max_width": null,
       "min_height": null,
       "min_width": null,
       "object_fit": null,
       "object_position": null,
       "order": null,
       "overflow": null,
       "overflow_x": null,
       "overflow_y": null,
       "padding": null,
       "right": null,
       "top": null,
       "visibility": null,
       "width": null
      }
     },
     "13682e18aeee4792b7cf149a816ce4f2": {
      "model_module": "@jupyter-widgets/controls",
      "model_module_version": "1.5.0",
      "model_name": "DescriptionStyleModel",
      "state": {
       "_model_module": "@jupyter-widgets/controls",
       "_model_module_version": "1.5.0",
       "_model_name": "DescriptionStyleModel",
       "_view_count": null,
       "_view_module": "@jupyter-widgets/base",
       "_view_module_version": "1.2.0",
       "_view_name": "StyleView",
       "description_width": ""
      }
     },
     "1450f2e196364b82928fb4737adbf362": {
      "model_module": "@jupyter-widgets/controls",
      "model_module_version": "1.5.0",
      "model_name": "FloatProgressModel",
      "state": {
       "_dom_classes": [],
       "_model_module": "@jupyter-widgets/controls",
       "_model_module_version": "1.5.0",
       "_model_name": "FloatProgressModel",
       "_view_count": null,
       "_view_module": "@jupyter-widgets/controls",
       "_view_module_version": "1.5.0",
       "_view_name": "ProgressView",
       "bar_style": "success",
       "description": "",
       "description_tooltip": null,
       "layout": "IPY_MODEL_2709ce34753f45f1ba2a46c20b3a8e92",
       "max": 1355863.0,
       "min": 0.0,
       "orientation": "horizontal",
       "style": "IPY_MODEL_19c9a1bfdb7a4e869170e7fcc63bac8d",
       "value": 1355863.0
      }
     },
     "1943c138ff2d4386a52e5a8761347d08": {
      "model_module": "@jupyter-widgets/controls",
      "model_module_version": "1.5.0",
      "model_name": "HBoxModel",
      "state": {
       "_dom_classes": [],
       "_model_module": "@jupyter-widgets/controls",
       "_model_module_version": "1.5.0",
       "_model_name": "HBoxModel",
       "_view_count": null,
       "_view_module": "@jupyter-widgets/controls",
       "_view_module_version": "1.5.0",
       "_view_name": "HBoxView",
       "box_style": "",
       "children": [
        "IPY_MODEL_b06779c41ec945018c486ec94e1216bf",
        "IPY_MODEL_401d9da8a7b74b6596c89cab26524e8d",
        "IPY_MODEL_c66d9d732c27417c83ef3bb496c5fb99"
       ],
       "layout": "IPY_MODEL_ec3ab88d5b11469e81f2c9cd2aa433d8"
      }
     },
     "19c9a1bfdb7a4e869170e7fcc63bac8d": {
      "model_module": "@jupyter-widgets/controls",
      "model_module_version": "1.5.0",
      "model_name": "ProgressStyleModel",
      "state": {
       "_model_module": "@jupyter-widgets/controls",
       "_model_module_version": "1.5.0",
       "_model_name": "ProgressStyleModel",
       "_view_count": null,
       "_view_module": "@jupyter-widgets/base",
       "_view_module_version": "1.2.0",
       "_view_name": "StyleView",
       "bar_color": null,
       "description_width": ""
      }
     },
     "2709ce34753f45f1ba2a46c20b3a8e92": {
      "model_module": "@jupyter-widgets/base",
      "model_module_version": "1.2.0",
      "model_name": "LayoutModel",
      "state": {
       "_model_module": "@jupyter-widgets/base",
       "_model_module_version": "1.2.0",
       "_model_name": "LayoutModel",
       "_view_count": null,
       "_view_module": "@jupyter-widgets/base",
       "_view_module_version": "1.2.0",
       "_view_name": "LayoutView",
       "align_content": null,
       "align_items": null,
       "align_self": null,
       "border": null,
       "bottom": null,
       "display": null,
       "flex": null,
       "flex_flow": null,
       "grid_area": null,
       "grid_auto_columns": null,
       "grid_auto_flow": null,
       "grid_auto_rows": null,
       "grid_column": null,
       "grid_gap": null,
       "grid_row": null,
       "grid_template_areas": null,
       "grid_template_columns": null,
       "grid_template_rows": null,
       "height": null,
       "justify_content": null,
       "justify_items": null,
       "left": null,
       "margin": null,
       "max_height": null,
       "max_width": null,
       "min_height": null,
       "min_width": null,
       "object_fit": null,
       "object_position": null,
       "order": null,
       "overflow": null,
       "overflow_x": null,
       "overflow_y": null,
       "padding": null,
       "right": null,
       "top": null,
       "visibility": null,
       "width": null
      }
     },
     "2b79b7c18ba8481787ba19efa988bb26": {
      "model_module": "@jupyter-widgets/base",
      "model_module_version": "1.2.0",
      "model_name": "LayoutModel",
      "state": {
       "_model_module": "@jupyter-widgets/base",
       "_model_module_version": "1.2.0",
       "_model_name": "LayoutModel",
       "_view_count": null,
       "_view_module": "@jupyter-widgets/base",
       "_view_module_version": "1.2.0",
       "_view_name": "LayoutView",
       "align_content": null,
       "align_items": null,
       "align_self": null,
       "border": null,
       "bottom": null,
       "display": null,
       "flex": null,
       "flex_flow": null,
       "grid_area": null,
       "grid_auto_columns": null,
       "grid_auto_flow": null,
       "grid_auto_rows": null,
       "grid_column": null,
       "grid_gap": null,
       "grid_row": null,
       "grid_template_areas": null,
       "grid_template_columns": null,
       "grid_template_rows": null,
       "height": null,
       "justify_content": null,
       "justify_items": null,
       "left": null,
       "margin": null,
       "max_height": null,
       "max_width": null,
       "min_height": null,
       "min_width": null,
       "object_fit": null,
       "object_position": null,
       "order": null,
       "overflow": null,
       "overflow_x": null,
       "overflow_y": null,
       "padding": null,
       "right": null,
       "top": null,
       "visibility": null,
       "width": null
      }
     },
     "3123c78fa1f546a3b1458ccf224adb51": {
      "model_module": "@jupyter-widgets/base",
      "model_module_version": "1.2.0",
      "model_name": "LayoutModel",
      "state": {
       "_model_module": "@jupyter-widgets/base",
       "_model_module_version": "1.2.0",
       "_model_name": "LayoutModel",
       "_view_count": null,
       "_view_module": "@jupyter-widgets/base",
       "_view_module_version": "1.2.0",
       "_view_name": "LayoutView",
       "align_content": null,
       "align_items": null,
       "align_self": null,
       "border": null,
       "bottom": null,
       "display": null,
       "flex": null,
       "flex_flow": null,
       "grid_area": null,
       "grid_auto_columns": null,
       "grid_auto_flow": null,
       "grid_auto_rows": null,
       "grid_column": null,
       "grid_gap": null,
       "grid_row": null,
       "grid_template_areas": null,
       "grid_template_columns": null,
       "grid_template_rows": null,
       "height": null,
       "justify_content": null,
       "justify_items": null,
       "left": null,
       "margin": null,
       "max_height": null,
       "max_width": null,
       "min_height": null,
       "min_width": null,
       "object_fit": null,
       "object_position": null,
       "order": null,
       "overflow": null,
       "overflow_x": null,
       "overflow_y": null,
       "padding": null,
       "right": null,
       "top": null,
       "visibility": null,
       "width": null
      }
     },
     "346f34d6aa5745ec99dda071052ab971": {
      "model_module": "@jupyter-widgets/base",
      "model_module_version": "1.2.0",
      "model_name": "LayoutModel",
      "state": {
       "_model_module": "@jupyter-widgets/base",
       "_model_module_version": "1.2.0",
       "_model_name": "LayoutModel",
       "_view_count": null,
       "_view_module": "@jupyter-widgets/base",
       "_view_module_version": "1.2.0",
       "_view_name": "LayoutView",
       "align_content": null,
       "align_items": null,
       "align_self": null,
       "border": null,
       "bottom": null,
       "display": null,
       "flex": null,
       "flex_flow": null,
       "grid_area": null,
       "grid_auto_columns": null,
       "grid_auto_flow": null,
       "grid_auto_rows": null,
       "grid_column": null,
       "grid_gap": null,
       "grid_row": null,
       "grid_template_areas": null,
       "grid_template_columns": null,
       "grid_template_rows": null,
       "height": null,
       "justify_content": null,
       "justify_items": null,
       "left": null,
       "margin": null,
       "max_height": null,
       "max_width": null,
       "min_height": null,
       "min_width": null,
       "object_fit": null,
       "object_position": null,
       "order": null,
       "overflow": null,
       "overflow_x": null,
       "overflow_y": null,
       "padding": null,
       "right": null,
       "top": null,
       "visibility": null,
       "width": null
      }
     },
     "3831c79200534bb8b49fd10d976a4011": {
      "model_module": "@jupyter-widgets/base",
      "model_module_version": "1.2.0",
      "model_name": "LayoutModel",
      "state": {
       "_model_module": "@jupyter-widgets/base",
       "_model_module_version": "1.2.0",
       "_model_name": "LayoutModel",
       "_view_count": null,
       "_view_module": "@jupyter-widgets/base",
       "_view_module_version": "1.2.0",
       "_view_name": "LayoutView",
       "align_content": null,
       "align_items": null,
       "align_self": null,
       "border": null,
       "bottom": null,
       "display": null,
       "flex": null,
       "flex_flow": null,
       "grid_area": null,
       "grid_auto_columns": null,
       "grid_auto_flow": null,
       "grid_auto_rows": null,
       "grid_column": null,
       "grid_gap": null,
       "grid_row": null,
       "grid_template_areas": null,
       "grid_template_columns": null,
       "grid_template_rows": null,
       "height": null,
       "justify_content": null,
       "justify_items": null,
       "left": null,
       "margin": null,
       "max_height": null,
       "max_width": null,
       "min_height": null,
       "min_width": null,
       "object_fit": null,
       "object_position": null,
       "order": null,
       "overflow": null,
       "overflow_x": null,
       "overflow_y": null,
       "padding": null,
       "right": null,
       "top": null,
       "visibility": null,
       "width": null
      }
     },
     "3c7bfd016d4d4c3f86a4716f2b95e522": {
      "model_module": "@jupyter-widgets/controls",
      "model_module_version": "1.5.0",
      "model_name": "DescriptionStyleModel",
      "state": {
       "_model_module": "@jupyter-widgets/controls",
       "_model_module_version": "1.5.0",
       "_model_name": "DescriptionStyleModel",
       "_view_count": null,
       "_view_module": "@jupyter-widgets/base",
       "_view_module_version": "1.2.0",
       "_view_name": "StyleView",
       "description_width": ""
      }
     },
     "3f165cce031b473a8a02f61fd451609c": {
      "model_module": "@jupyter-widgets/controls",
      "model_module_version": "1.5.0",
      "model_name": "DescriptionStyleModel",
      "state": {
       "_model_module": "@jupyter-widgets/controls",
       "_model_module_version": "1.5.0",
       "_model_name": "DescriptionStyleModel",
       "_view_count": null,
       "_view_module": "@jupyter-widgets/base",
       "_view_module_version": "1.2.0",
       "_view_name": "StyleView",
       "description_width": ""
      }
     },
     "3fe86de1491349bc8a3ca3aadd975558": {
      "model_module": "@jupyter-widgets/controls",
      "model_module_version": "1.5.0",
      "model_name": "ProgressStyleModel",
      "state": {
       "_model_module": "@jupyter-widgets/controls",
       "_model_module_version": "1.5.0",
       "_model_name": "ProgressStyleModel",
       "_view_count": null,
       "_view_module": "@jupyter-widgets/base",
       "_view_module_version": "1.2.0",
       "_view_name": "StyleView",
       "bar_color": null,
       "description_width": ""
      }
     },
     "401d9da8a7b74b6596c89cab26524e8d": {
      "model_module": "@jupyter-widgets/controls",
      "model_module_version": "1.5.0",
      "model_name": "FloatProgressModel",
      "state": {
       "_dom_classes": [],
       "_model_module": "@jupyter-widgets/controls",
       "_model_module_version": "1.5.0",
       "_model_name": "FloatProgressModel",
       "_view_count": null,
       "_view_module": "@jupyter-widgets/controls",
       "_view_module_version": "1.5.0",
       "_view_name": "ProgressView",
       "bar_style": "success",
       "description": "",
       "description_tooltip": null,
       "layout": "IPY_MODEL_02491f5e0daf42b89ca0b85ebf714b2f",
       "max": 481.0,
       "min": 0.0,
       "orientation": "horizontal",
       "style": "IPY_MODEL_3fe86de1491349bc8a3ca3aadd975558",
       "value": 481.0
      }
     },
     "40edd1a3438f4142bc393c054cff9661": {
      "model_module": "@jupyter-widgets/base",
      "model_module_version": "1.2.0",
      "model_name": "LayoutModel",
      "state": {
       "_model_module": "@jupyter-widgets/base",
       "_model_module_version": "1.2.0",
       "_model_name": "LayoutModel",
       "_view_count": null,
       "_view_module": "@jupyter-widgets/base",
       "_view_module_version": "1.2.0",
       "_view_name": "LayoutView",
       "align_content": null,
       "align_items": null,
       "align_self": null,
       "border": null,
       "bottom": null,
       "display": null,
       "flex": null,
       "flex_flow": null,
       "grid_area": null,
       "grid_auto_columns": null,
       "grid_auto_flow": null,
       "grid_auto_rows": null,
       "grid_column": null,
       "grid_gap": null,
       "grid_row": null,
       "grid_template_areas": null,
       "grid_template_columns": null,
       "grid_template_rows": null,
       "height": null,
       "justify_content": null,
       "justify_items": null,
       "left": null,
       "margin": null,
       "max_height": null,
       "max_width": null,
       "min_height": null,
       "min_width": null,
       "object_fit": null,
       "object_position": null,
       "order": null,
       "overflow": null,
       "overflow_x": null,
       "overflow_y": null,
       "padding": null,
       "right": null,
       "top": null,
       "visibility": null,
       "width": null
      }
     },
     "4aca5c8f4e2243babf64fe20f6e8096e": {
      "model_module": "@jupyter-widgets/controls",
      "model_module_version": "1.5.0",
      "model_name": "FloatProgressModel",
      "state": {
       "_dom_classes": [],
       "_model_module": "@jupyter-widgets/controls",
       "_model_module_version": "1.5.0",
       "_model_name": "FloatProgressModel",
       "_view_count": null,
       "_view_module": "@jupyter-widgets/controls",
       "_view_module_version": "1.5.0",
       "_view_name": "ProgressView",
       "bar_style": "success",
       "description": "",
       "description_tooltip": null,
       "layout": "IPY_MODEL_dc8d2069fe57423f8ce8ec94c272a1a6",
       "max": 456318.0,
       "min": 0.0,
       "orientation": "horizontal",
       "style": "IPY_MODEL_d0565d8103b546bc8753646350b436c8",
       "value": 456318.0
      }
     },
     "590fb3c36e534fdc8757e7d0a6a4b321": {
      "model_module": "@jupyter-widgets/controls",
      "model_module_version": "1.5.0",
      "model_name": "HTMLModel",
      "state": {
       "_dom_classes": [],
       "_model_module": "@jupyter-widgets/controls",
       "_model_module_version": "1.5.0",
       "_model_name": "HTMLModel",
       "_view_count": null,
       "_view_module": "@jupyter-widgets/controls",
       "_view_module_version": "1.5.0",
       "_view_name": "HTMLView",
       "description": "",
       "description_tooltip": null,
       "layout": "IPY_MODEL_2b79b7c18ba8481787ba19efa988bb26",
       "placeholder": "​",
       "style": "IPY_MODEL_727c8b9f722a43d7a64e358603b154a3",
       "value": "Downloading: 100%"
      }
     },
     "61915b2c9015402a8233f76a92c79f22": {
      "model_module": "@jupyter-widgets/controls",
      "model_module_version": "1.5.0",
      "model_name": "HBoxModel",
      "state": {
       "_dom_classes": [],
       "_model_module": "@jupyter-widgets/controls",
       "_model_module_version": "1.5.0",
       "_model_name": "HBoxModel",
       "_view_count": null,
       "_view_module": "@jupyter-widgets/controls",
       "_view_module_version": "1.5.0",
       "_view_name": "HBoxView",
       "box_style": "",
       "children": [
        "IPY_MODEL_9b4760a9183841188535557f7a4bcb88",
        "IPY_MODEL_1450f2e196364b82928fb4737adbf362",
        "IPY_MODEL_75c9041c1fd24999b4b4d9bb9f326fb8"
       ],
       "layout": "IPY_MODEL_40edd1a3438f4142bc393c054cff9661"
      }
     },
     "67b6602589e94f5584ce500d8db8845d": {
      "model_module": "@jupyter-widgets/base",
      "model_module_version": "1.2.0",
      "model_name": "LayoutModel",
      "state": {
       "_model_module": "@jupyter-widgets/base",
       "_model_module_version": "1.2.0",
       "_model_name": "LayoutModel",
       "_view_count": null,
       "_view_module": "@jupyter-widgets/base",
       "_view_module_version": "1.2.0",
       "_view_name": "LayoutView",
       "align_content": null,
       "align_items": null,
       "align_self": null,
       "border": null,
       "bottom": null,
       "display": null,
       "flex": null,
       "flex_flow": null,
       "grid_area": null,
       "grid_auto_columns": null,
       "grid_auto_flow": null,
       "grid_auto_rows": null,
       "grid_column": null,
       "grid_gap": null,
       "grid_row": null,
       "grid_template_areas": null,
       "grid_template_columns": null,
       "grid_template_rows": null,
       "height": null,
       "justify_content": null,
       "justify_items": null,
       "left": null,
       "margin": null,
       "max_height": null,
       "max_width": null,
       "min_height": null,
       "min_width": null,
       "object_fit": null,
       "object_position": null,
       "order": null,
       "overflow": null,
       "overflow_x": null,
       "overflow_y": null,
       "padding": null,
       "right": null,
       "top": null,
       "visibility": null,
       "width": null
      }
     },
     "6945905c9c2243bebda5fac48c602109": {
      "model_module": "@jupyter-widgets/base",
      "model_module_version": "1.2.0",
      "model_name": "LayoutModel",
      "state": {
       "_model_module": "@jupyter-widgets/base",
       "_model_module_version": "1.2.0",
       "_model_name": "LayoutModel",
       "_view_count": null,
       "_view_module": "@jupyter-widgets/base",
       "_view_module_version": "1.2.0",
       "_view_name": "LayoutView",
       "align_content": null,
       "align_items": null,
       "align_self": null,
       "border": null,
       "bottom": null,
       "display": null,
       "flex": null,
       "flex_flow": null,
       "grid_area": null,
       "grid_auto_columns": null,
       "grid_auto_flow": null,
       "grid_auto_rows": null,
       "grid_column": null,
       "grid_gap": null,
       "grid_row": null,
       "grid_template_areas": null,
       "grid_template_columns": null,
       "grid_template_rows": null,
       "height": null,
       "justify_content": null,
       "justify_items": null,
       "left": null,
       "margin": null,
       "max_height": null,
       "max_width": null,
       "min_height": null,
       "min_width": null,
       "object_fit": null,
       "object_position": null,
       "order": null,
       "overflow": null,
       "overflow_x": null,
       "overflow_y": null,
       "padding": null,
       "right": null,
       "top": null,
       "visibility": null,
       "width": null
      }
     },
     "727c8b9f722a43d7a64e358603b154a3": {
      "model_module": "@jupyter-widgets/controls",
      "model_module_version": "1.5.0",
      "model_name": "DescriptionStyleModel",
      "state": {
       "_model_module": "@jupyter-widgets/controls",
       "_model_module_version": "1.5.0",
       "_model_name": "DescriptionStyleModel",
       "_view_count": null,
       "_view_module": "@jupyter-widgets/base",
       "_view_module_version": "1.2.0",
       "_view_name": "StyleView",
       "description_width": ""
      }
     },
     "75c9041c1fd24999b4b4d9bb9f326fb8": {
      "model_module": "@jupyter-widgets/controls",
      "model_module_version": "1.5.0",
      "model_name": "HTMLModel",
      "state": {
       "_dom_classes": [],
       "_model_module": "@jupyter-widgets/controls",
       "_model_module_version": "1.5.0",
       "_model_name": "HTMLModel",
       "_view_count": null,
       "_view_module": "@jupyter-widgets/controls",
       "_view_module_version": "1.5.0",
       "_view_name": "HTMLView",
       "description": "",
       "description_tooltip": null,
       "layout": "IPY_MODEL_fe5ffad552564052b1ccb89d7f1441c2",
       "placeholder": "​",
       "style": "IPY_MODEL_3f165cce031b473a8a02f61fd451609c",
       "value": " 1.29M/1.29M [00:00&lt;00:00, 4.10MB/s]"
      }
     },
     "8cb8a53e004b49e9b22bfcd5a3942e80": {
      "model_module": "@jupyter-widgets/controls",
      "model_module_version": "1.5.0",
      "model_name": "ProgressStyleModel",
      "state": {
       "_model_module": "@jupyter-widgets/controls",
       "_model_module_version": "1.5.0",
       "_model_name": "ProgressStyleModel",
       "_view_count": null,
       "_view_module": "@jupyter-widgets/base",
       "_view_module_version": "1.2.0",
       "_view_name": "StyleView",
       "bar_color": null,
       "description_width": ""
      }
     },
     "8ec3621ece124f358b2ea8732e78df33": {
      "model_module": "@jupyter-widgets/controls",
      "model_module_version": "1.5.0",
      "model_name": "DescriptionStyleModel",
      "state": {
       "_model_module": "@jupyter-widgets/controls",
       "_model_module_version": "1.5.0",
       "_model_name": "DescriptionStyleModel",
       "_view_count": null,
       "_view_module": "@jupyter-widgets/base",
       "_view_module_version": "1.2.0",
       "_view_name": "StyleView",
       "description_width": ""
      }
     },
     "9375f8ea6ced4fc2b7ea4bd333f85fb5": {
      "model_module": "@jupyter-widgets/base",
      "model_module_version": "1.2.0",
      "model_name": "LayoutModel",
      "state": {
       "_model_module": "@jupyter-widgets/base",
       "_model_module_version": "1.2.0",
       "_model_name": "LayoutModel",
       "_view_count": null,
       "_view_module": "@jupyter-widgets/base",
       "_view_module_version": "1.2.0",
       "_view_name": "LayoutView",
       "align_content": null,
       "align_items": null,
       "align_self": null,
       "border": null,
       "bottom": null,
       "display": null,
       "flex": null,
       "flex_flow": null,
       "grid_area": null,
       "grid_auto_columns": null,
       "grid_auto_flow": null,
       "grid_auto_rows": null,
       "grid_column": null,
       "grid_gap": null,
       "grid_row": null,
       "grid_template_areas": null,
       "grid_template_columns": null,
       "grid_template_rows": null,
       "height": null,
       "justify_content": null,
       "justify_items": null,
       "left": null,
       "margin": null,
       "max_height": null,
       "max_width": null,
       "min_height": null,
       "min_width": null,
       "object_fit": null,
       "object_position": null,
       "order": null,
       "overflow": null,
       "overflow_x": null,
       "overflow_y": null,
       "padding": null,
       "right": null,
       "top": null,
       "visibility": null,
       "width": null
      }
     },
     "97273d8047574a48a3ec901a6100b60c": {
      "model_module": "@jupyter-widgets/controls",
      "model_module_version": "1.5.0",
      "model_name": "DescriptionStyleModel",
      "state": {
       "_model_module": "@jupyter-widgets/controls",
       "_model_module_version": "1.5.0",
       "_model_name": "DescriptionStyleModel",
       "_view_count": null,
       "_view_module": "@jupyter-widgets/base",
       "_view_module_version": "1.2.0",
       "_view_name": "StyleView",
       "description_width": ""
      }
     },
     "98720cb8c8904fe684434083d52e6d9c": {
      "model_module": "@jupyter-widgets/controls",
      "model_module_version": "1.5.0",
      "model_name": "HTMLModel",
      "state": {
       "_dom_classes": [],
       "_model_module": "@jupyter-widgets/controls",
       "_model_module_version": "1.5.0",
       "_model_name": "HTMLModel",
       "_view_count": null,
       "_view_module": "@jupyter-widgets/controls",
       "_view_module_version": "1.5.0",
       "_view_name": "HTMLView",
       "description": "",
       "description_tooltip": null,
       "layout": "IPY_MODEL_df645c6f363245f8887e3fd4888928d6",
       "placeholder": "​",
       "style": "IPY_MODEL_13682e18aeee4792b7cf149a816ce4f2",
       "value": " 478M/478M [00:11&lt;00:00, 48.7MB/s]"
      }
     },
     "9a8a6fd7b6cf42cabad83ab4e1450629": {
      "model_module": "@jupyter-widgets/controls",
      "model_module_version": "1.5.0",
      "model_name": "FloatProgressModel",
      "state": {
       "_dom_classes": [],
       "_model_module": "@jupyter-widgets/controls",
       "_model_module_version": "1.5.0",
       "_model_name": "FloatProgressModel",
       "_view_count": null,
       "_view_module": "@jupyter-widgets/controls",
       "_view_module_version": "1.5.0",
       "_view_name": "ProgressView",
       "bar_style": "success",
       "description": "",
       "description_tooltip": null,
       "layout": "IPY_MODEL_e9e7948006d14daabbbe8a9665d1565c",
       "max": 501200538.0,
       "min": 0.0,
       "orientation": "horizontal",
       "style": "IPY_MODEL_8cb8a53e004b49e9b22bfcd5a3942e80",
       "value": 501200538.0
      }
     },
     "9b4760a9183841188535557f7a4bcb88": {
      "model_module": "@jupyter-widgets/controls",
      "model_module_version": "1.5.0",
      "model_name": "HTMLModel",
      "state": {
       "_dom_classes": [],
       "_model_module": "@jupyter-widgets/controls",
       "_model_module_version": "1.5.0",
       "_model_name": "HTMLModel",
       "_view_count": null,
       "_view_module": "@jupyter-widgets/controls",
       "_view_module_version": "1.5.0",
       "_view_name": "HTMLView",
       "description": "",
       "description_tooltip": null,
       "layout": "IPY_MODEL_67b6602589e94f5584ce500d8db8845d",
       "placeholder": "​",
       "style": "IPY_MODEL_97273d8047574a48a3ec901a6100b60c",
       "value": "Downloading: 100%"
      }
     },
     "9c2ea8bed2964eedae33fc130141ab4f": {
      "model_module": "@jupyter-widgets/controls",
      "model_module_version": "1.5.0",
      "model_name": "HTMLModel",
      "state": {
       "_dom_classes": [],
       "_model_module": "@jupyter-widgets/controls",
       "_model_module_version": "1.5.0",
       "_model_name": "HTMLModel",
       "_view_count": null,
       "_view_module": "@jupyter-widgets/controls",
       "_view_module_version": "1.5.0",
       "_view_name": "HTMLView",
       "description": "",
       "description_tooltip": null,
       "layout": "IPY_MODEL_f63b6929241046cf9596c3a3a467b1eb",
       "placeholder": "​",
       "style": "IPY_MODEL_8ec3621ece124f358b2ea8732e78df33",
       "value": "Downloading: 100%"
      }
     },
     "a3fbc6713abe412986d73f0701076e4e": {
      "model_module": "@jupyter-widgets/controls",
      "model_module_version": "1.5.0",
      "model_name": "HBoxModel",
      "state": {
       "_dom_classes": [],
       "_model_module": "@jupyter-widgets/controls",
       "_model_module_version": "1.5.0",
       "_model_name": "HBoxModel",
       "_view_count": null,
       "_view_module": "@jupyter-widgets/controls",
       "_view_module_version": "1.5.0",
       "_view_name": "HBoxView",
       "box_style": "",
       "children": [
        "IPY_MODEL_9c2ea8bed2964eedae33fc130141ab4f",
        "IPY_MODEL_4aca5c8f4e2243babf64fe20f6e8096e",
        "IPY_MODEL_b6a7d26a714d49dfad40e6339758445d"
       ],
       "layout": "IPY_MODEL_cdd51c49fcc14816888edd2737407d45"
      }
     },
     "a6256e6bc3514543b066e07a6cceefbb": {
      "model_module": "@jupyter-widgets/controls",
      "model_module_version": "1.5.0",
      "model_name": "DescriptionStyleModel",
      "state": {
       "_model_module": "@jupyter-widgets/controls",
       "_model_module_version": "1.5.0",
       "_model_name": "DescriptionStyleModel",
       "_view_count": null,
       "_view_module": "@jupyter-widgets/base",
       "_view_module_version": "1.2.0",
       "_view_name": "StyleView",
       "description_width": ""
      }
     },
     "a7298a319cbc49aab8fda77736ce8ad2": {
      "model_module": "@jupyter-widgets/controls",
      "model_module_version": "1.5.0",
      "model_name": "DescriptionStyleModel",
      "state": {
       "_model_module": "@jupyter-widgets/controls",
       "_model_module_version": "1.5.0",
       "_model_name": "DescriptionStyleModel",
       "_view_count": null,
       "_view_module": "@jupyter-widgets/base",
       "_view_module_version": "1.2.0",
       "_view_name": "StyleView",
       "description_width": ""
      }
     },
     "ad73008ef2bc4bd88d6e1d809c62b18c": {
      "model_module": "@jupyter-widgets/controls",
      "model_module_version": "1.5.0",
      "model_name": "HTMLModel",
      "state": {
       "_dom_classes": [],
       "_model_module": "@jupyter-widgets/controls",
       "_model_module_version": "1.5.0",
       "_model_name": "HTMLModel",
       "_view_count": null,
       "_view_module": "@jupyter-widgets/controls",
       "_view_module_version": "1.5.0",
       "_view_name": "HTMLView",
       "description": "",
       "description_tooltip": null,
       "layout": "IPY_MODEL_f7d9d3b897964c299b6630f58882b9ab",
       "placeholder": "​",
       "style": "IPY_MODEL_a6256e6bc3514543b066e07a6cceefbb",
       "value": "Downloading: 100%"
      }
     },
     "aed4f9462d884e41982b66be807bc778": {
      "model_module": "@jupyter-widgets/controls",
      "model_module_version": "1.5.0",
      "model_name": "DescriptionStyleModel",
      "state": {
       "_model_module": "@jupyter-widgets/controls",
       "_model_module_version": "1.5.0",
       "_model_name": "DescriptionStyleModel",
       "_view_count": null,
       "_view_module": "@jupyter-widgets/base",
       "_view_module_version": "1.2.0",
       "_view_name": "StyleView",
       "description_width": ""
      }
     },
     "b06779c41ec945018c486ec94e1216bf": {
      "model_module": "@jupyter-widgets/controls",
      "model_module_version": "1.5.0",
      "model_name": "HTMLModel",
      "state": {
       "_dom_classes": [],
       "_model_module": "@jupyter-widgets/controls",
       "_model_module_version": "1.5.0",
       "_model_name": "HTMLModel",
       "_view_count": null,
       "_view_module": "@jupyter-widgets/controls",
       "_view_module_version": "1.5.0",
       "_view_name": "HTMLView",
       "description": "",
       "description_tooltip": null,
       "layout": "IPY_MODEL_3831c79200534bb8b49fd10d976a4011",
       "placeholder": "​",
       "style": "IPY_MODEL_a7298a319cbc49aab8fda77736ce8ad2",
       "value": "Downloading: 100%"
      }
     },
     "b49f69bda2f54573b938d4a5cc377f1e": {
      "model_module": "@jupyter-widgets/controls",
      "model_module_version": "1.5.0",
      "model_name": "HBoxModel",
      "state": {
       "_dom_classes": [],
       "_model_module": "@jupyter-widgets/controls",
       "_model_module_version": "1.5.0",
       "_model_name": "HBoxModel",
       "_view_count": null,
       "_view_module": "@jupyter-widgets/controls",
       "_view_module_version": "1.5.0",
       "_view_name": "HBoxView",
       "box_style": "",
       "children": [
        "IPY_MODEL_590fb3c36e534fdc8757e7d0a6a4b321",
        "IPY_MODEL_9a8a6fd7b6cf42cabad83ab4e1450629",
        "IPY_MODEL_98720cb8c8904fe684434083d52e6d9c"
       ],
       "layout": "IPY_MODEL_9375f8ea6ced4fc2b7ea4bd333f85fb5"
      }
     },
     "b6a7d26a714d49dfad40e6339758445d": {
      "model_module": "@jupyter-widgets/controls",
      "model_module_version": "1.5.0",
      "model_name": "HTMLModel",
      "state": {
       "_dom_classes": [],
       "_model_module": "@jupyter-widgets/controls",
       "_model_module_version": "1.5.0",
       "_model_name": "HTMLModel",
       "_view_count": null,
       "_view_module": "@jupyter-widgets/controls",
       "_view_module_version": "1.5.0",
       "_view_name": "HTMLView",
       "description": "",
       "description_tooltip": null,
       "layout": "IPY_MODEL_d73115d110a442289556d38fdac7981c",
       "placeholder": "​",
       "style": "IPY_MODEL_c09c4e3524574db1887adf9a39488be2",
       "value": " 446k/446k [00:00&lt;00:00, 1.33MB/s]"
      }
     },
     "c09c4e3524574db1887adf9a39488be2": {
      "model_module": "@jupyter-widgets/controls",
      "model_module_version": "1.5.0",
      "model_name": "DescriptionStyleModel",
      "state": {
       "_model_module": "@jupyter-widgets/controls",
       "_model_module_version": "1.5.0",
       "_model_name": "DescriptionStyleModel",
       "_view_count": null,
       "_view_module": "@jupyter-widgets/base",
       "_view_module_version": "1.2.0",
       "_view_name": "StyleView",
       "description_width": ""
      }
     },
     "c66d9d732c27417c83ef3bb496c5fb99": {
      "model_module": "@jupyter-widgets/controls",
      "model_module_version": "1.5.0",
      "model_name": "HTMLModel",
      "state": {
       "_dom_classes": [],
       "_model_module": "@jupyter-widgets/controls",
       "_model_module_version": "1.5.0",
       "_model_name": "HTMLModel",
       "_view_count": null,
       "_view_module": "@jupyter-widgets/controls",
       "_view_module_version": "1.5.0",
       "_view_name": "HTMLView",
       "description": "",
       "description_tooltip": null,
       "layout": "IPY_MODEL_3123c78fa1f546a3b1458ccf224adb51",
       "placeholder": "​",
       "style": "IPY_MODEL_3c7bfd016d4d4c3f86a4716f2b95e522",
       "value": " 481/481 [00:00&lt;00:00, 18.7kB/s]"
      }
     },
     "cdd51c49fcc14816888edd2737407d45": {
      "model_module": "@jupyter-widgets/base",
      "model_module_version": "1.2.0",
      "model_name": "LayoutModel",
      "state": {
       "_model_module": "@jupyter-widgets/base",
       "_model_module_version": "1.2.0",
       "_model_name": "LayoutModel",
       "_view_count": null,
       "_view_module": "@jupyter-widgets/base",
       "_view_module_version": "1.2.0",
       "_view_name": "LayoutView",
       "align_content": null,
       "align_items": null,
       "align_self": null,
       "border": null,
       "bottom": null,
       "display": null,
       "flex": null,
       "flex_flow": null,
       "grid_area": null,
       "grid_auto_columns": null,
       "grid_auto_flow": null,
       "grid_auto_rows": null,
       "grid_column": null,
       "grid_gap": null,
       "grid_row": null,
       "grid_template_areas": null,
       "grid_template_columns": null,
       "grid_template_rows": null,
       "height": null,
       "justify_content": null,
       "justify_items": null,
       "left": null,
       "margin": null,
       "max_height": null,
       "max_width": null,
       "min_height": null,
       "min_width": null,
       "object_fit": null,
       "object_position": null,
       "order": null,
       "overflow": null,
       "overflow_x": null,
       "overflow_y": null,
       "padding": null,
       "right": null,
       "top": null,
       "visibility": null,
       "width": null
      }
     },
     "d0565d8103b546bc8753646350b436c8": {
      "model_module": "@jupyter-widgets/controls",
      "model_module_version": "1.5.0",
      "model_name": "ProgressStyleModel",
      "state": {
       "_model_module": "@jupyter-widgets/controls",
       "_model_module_version": "1.5.0",
       "_model_name": "ProgressStyleModel",
       "_view_count": null,
       "_view_module": "@jupyter-widgets/base",
       "_view_module_version": "1.2.0",
       "_view_name": "StyleView",
       "bar_color": null,
       "description_width": ""
      }
     },
     "d73115d110a442289556d38fdac7981c": {
      "model_module": "@jupyter-widgets/base",
      "model_module_version": "1.2.0",
      "model_name": "LayoutModel",
      "state": {
       "_model_module": "@jupyter-widgets/base",
       "_model_module_version": "1.2.0",
       "_model_name": "LayoutModel",
       "_view_count": null,
       "_view_module": "@jupyter-widgets/base",
       "_view_module_version": "1.2.0",
       "_view_name": "LayoutView",
       "align_content": null,
       "align_items": null,
       "align_self": null,
       "border": null,
       "bottom": null,
       "display": null,
       "flex": null,
       "flex_flow": null,
       "grid_area": null,
       "grid_auto_columns": null,
       "grid_auto_flow": null,
       "grid_auto_rows": null,
       "grid_column": null,
       "grid_gap": null,
       "grid_row": null,
       "grid_template_areas": null,
       "grid_template_columns": null,
       "grid_template_rows": null,
       "height": null,
       "justify_content": null,
       "justify_items": null,
       "left": null,
       "margin": null,
       "max_height": null,
       "max_width": null,
       "min_height": null,
       "min_width": null,
       "object_fit": null,
       "object_position": null,
       "order": null,
       "overflow": null,
       "overflow_x": null,
       "overflow_y": null,
       "padding": null,
       "right": null,
       "top": null,
       "visibility": null,
       "width": null
      }
     },
     "dc8d2069fe57423f8ce8ec94c272a1a6": {
      "model_module": "@jupyter-widgets/base",
      "model_module_version": "1.2.0",
      "model_name": "LayoutModel",
      "state": {
       "_model_module": "@jupyter-widgets/base",
       "_model_module_version": "1.2.0",
       "_model_name": "LayoutModel",
       "_view_count": null,
       "_view_module": "@jupyter-widgets/base",
       "_view_module_version": "1.2.0",
       "_view_name": "LayoutView",
       "align_content": null,
       "align_items": null,
       "align_self": null,
       "border": null,
       "bottom": null,
       "display": null,
       "flex": null,
       "flex_flow": null,
       "grid_area": null,
       "grid_auto_columns": null,
       "grid_auto_flow": null,
       "grid_auto_rows": null,
       "grid_column": null,
       "grid_gap": null,
       "grid_row": null,
       "grid_template_areas": null,
       "grid_template_columns": null,
       "grid_template_rows": null,
       "height": null,
       "justify_content": null,
       "justify_items": null,
       "left": null,
       "margin": null,
       "max_height": null,
       "max_width": null,
       "min_height": null,
       "min_width": null,
       "object_fit": null,
       "object_position": null,
       "order": null,
       "overflow": null,
       "overflow_x": null,
       "overflow_y": null,
       "padding": null,
       "right": null,
       "top": null,
       "visibility": null,
       "width": null
      }
     },
     "df645c6f363245f8887e3fd4888928d6": {
      "model_module": "@jupyter-widgets/base",
      "model_module_version": "1.2.0",
      "model_name": "LayoutModel",
      "state": {
       "_model_module": "@jupyter-widgets/base",
       "_model_module_version": "1.2.0",
       "_model_name": "LayoutModel",
       "_view_count": null,
       "_view_module": "@jupyter-widgets/base",
       "_view_module_version": "1.2.0",
       "_view_name": "LayoutView",
       "align_content": null,
       "align_items": null,
       "align_self": null,
       "border": null,
       "bottom": null,
       "display": null,
       "flex": null,
       "flex_flow": null,
       "grid_area": null,
       "grid_auto_columns": null,
       "grid_auto_flow": null,
       "grid_auto_rows": null,
       "grid_column": null,
       "grid_gap": null,
       "grid_row": null,
       "grid_template_areas": null,
       "grid_template_columns": null,
       "grid_template_rows": null,
       "height": null,
       "justify_content": null,
       "justify_items": null,
       "left": null,
       "margin": null,
       "max_height": null,
       "max_width": null,
       "min_height": null,
       "min_width": null,
       "object_fit": null,
       "object_position": null,
       "order": null,
       "overflow": null,
       "overflow_x": null,
       "overflow_y": null,
       "padding": null,
       "right": null,
       "top": null,
       "visibility": null,
       "width": null
      }
     },
     "e0695b12c8c141868fd6fa7f2fbec0bd": {
      "model_module": "@jupyter-widgets/controls",
      "model_module_version": "1.5.0",
      "model_name": "ProgressStyleModel",
      "state": {
       "_model_module": "@jupyter-widgets/controls",
       "_model_module_version": "1.5.0",
       "_model_name": "ProgressStyleModel",
       "_view_count": null,
       "_view_module": "@jupyter-widgets/base",
       "_view_module_version": "1.2.0",
       "_view_name": "StyleView",
       "bar_color": null,
       "description_width": ""
      }
     },
     "e0da914ce2b141769c9d36db801ceb8e": {
      "model_module": "@jupyter-widgets/controls",
      "model_module_version": "1.5.0",
      "model_name": "HBoxModel",
      "state": {
       "_dom_classes": [],
       "_model_module": "@jupyter-widgets/controls",
       "_model_module_version": "1.5.0",
       "_model_name": "HBoxModel",
       "_view_count": null,
       "_view_module": "@jupyter-widgets/controls",
       "_view_module_version": "1.5.0",
       "_view_name": "HBoxView",
       "box_style": "",
       "children": [
        "IPY_MODEL_ad73008ef2bc4bd88d6e1d809c62b18c",
        "IPY_MODEL_e4a0b8aeff1e4f6a86b459c6728cffd8",
        "IPY_MODEL_f96e1d3c32da4d7ea3034438c014bdc6"
       ],
       "layout": "IPY_MODEL_6945905c9c2243bebda5fac48c602109"
      }
     },
     "e4a0b8aeff1e4f6a86b459c6728cffd8": {
      "model_module": "@jupyter-widgets/controls",
      "model_module_version": "1.5.0",
      "model_name": "FloatProgressModel",
      "state": {
       "_dom_classes": [],
       "_model_module": "@jupyter-widgets/controls",
       "_model_module_version": "1.5.0",
       "_model_name": "FloatProgressModel",
       "_view_count": null,
       "_view_module": "@jupyter-widgets/controls",
       "_view_module_version": "1.5.0",
       "_view_name": "ProgressView",
       "bar_style": "success",
       "description": "",
       "description_tooltip": null,
       "layout": "IPY_MODEL_346f34d6aa5745ec99dda071052ab971",
       "max": 898823.0,
       "min": 0.0,
       "orientation": "horizontal",
       "style": "IPY_MODEL_e0695b12c8c141868fd6fa7f2fbec0bd",
       "value": 898823.0
      }
     },
     "e9e7948006d14daabbbe8a9665d1565c": {
      "model_module": "@jupyter-widgets/base",
      "model_module_version": "1.2.0",
      "model_name": "LayoutModel",
      "state": {
       "_model_module": "@jupyter-widgets/base",
       "_model_module_version": "1.2.0",
       "_model_name": "LayoutModel",
       "_view_count": null,
       "_view_module": "@jupyter-widgets/base",
       "_view_module_version": "1.2.0",
       "_view_name": "LayoutView",
       "align_content": null,
       "align_items": null,
       "align_self": null,
       "border": null,
       "bottom": null,
       "display": null,
       "flex": null,
       "flex_flow": null,
       "grid_area": null,
       "grid_auto_columns": null,
       "grid_auto_flow": null,
       "grid_auto_rows": null,
       "grid_column": null,
       "grid_gap": null,
       "grid_row": null,
       "grid_template_areas": null,
       "grid_template_columns": null,
       "grid_template_rows": null,
       "height": null,
       "justify_content": null,
       "justify_items": null,
       "left": null,
       "margin": null,
       "max_height": null,
       "max_width": null,
       "min_height": null,
       "min_width": null,
       "object_fit": null,
       "object_position": null,
       "order": null,
       "overflow": null,
       "overflow_x": null,
       "overflow_y": null,
       "padding": null,
       "right": null,
       "top": null,
       "visibility": null,
       "width": null
      }
     },
     "ec3ab88d5b11469e81f2c9cd2aa433d8": {
      "model_module": "@jupyter-widgets/base",
      "model_module_version": "1.2.0",
      "model_name": "LayoutModel",
      "state": {
       "_model_module": "@jupyter-widgets/base",
       "_model_module_version": "1.2.0",
       "_model_name": "LayoutModel",
       "_view_count": null,
       "_view_module": "@jupyter-widgets/base",
       "_view_module_version": "1.2.0",
       "_view_name": "LayoutView",
       "align_content": null,
       "align_items": null,
       "align_self": null,
       "border": null,
       "bottom": null,
       "display": null,
       "flex": null,
       "flex_flow": null,
       "grid_area": null,
       "grid_auto_columns": null,
       "grid_auto_flow": null,
       "grid_auto_rows": null,
       "grid_column": null,
       "grid_gap": null,
       "grid_row": null,
       "grid_template_areas": null,
       "grid_template_columns": null,
       "grid_template_rows": null,
       "height": null,
       "justify_content": null,
       "justify_items": null,
       "left": null,
       "margin": null,
       "max_height": null,
       "max_width": null,
       "min_height": null,
       "min_width": null,
       "object_fit": null,
       "object_position": null,
       "order": null,
       "overflow": null,
       "overflow_x": null,
       "overflow_y": null,
       "padding": null,
       "right": null,
       "top": null,
       "visibility": null,
       "width": null
      }
     },
     "f63b6929241046cf9596c3a3a467b1eb": {
      "model_module": "@jupyter-widgets/base",
      "model_module_version": "1.2.0",
      "model_name": "LayoutModel",
      "state": {
       "_model_module": "@jupyter-widgets/base",
       "_model_module_version": "1.2.0",
       "_model_name": "LayoutModel",
       "_view_count": null,
       "_view_module": "@jupyter-widgets/base",
       "_view_module_version": "1.2.0",
       "_view_name": "LayoutView",
       "align_content": null,
       "align_items": null,
       "align_self": null,
       "border": null,
       "bottom": null,
       "display": null,
       "flex": null,
       "flex_flow": null,
       "grid_area": null,
       "grid_auto_columns": null,
       "grid_auto_flow": null,
       "grid_auto_rows": null,
       "grid_column": null,
       "grid_gap": null,
       "grid_row": null,
       "grid_template_areas": null,
       "grid_template_columns": null,
       "grid_template_rows": null,
       "height": null,
       "justify_content": null,
       "justify_items": null,
       "left": null,
       "margin": null,
       "max_height": null,
       "max_width": null,
       "min_height": null,
       "min_width": null,
       "object_fit": null,
       "object_position": null,
       "order": null,
       "overflow": null,
       "overflow_x": null,
       "overflow_y": null,
       "padding": null,
       "right": null,
       "top": null,
       "visibility": null,
       "width": null
      }
     },
     "f7d9d3b897964c299b6630f58882b9ab": {
      "model_module": "@jupyter-widgets/base",
      "model_module_version": "1.2.0",
      "model_name": "LayoutModel",
      "state": {
       "_model_module": "@jupyter-widgets/base",
       "_model_module_version": "1.2.0",
       "_model_name": "LayoutModel",
       "_view_count": null,
       "_view_module": "@jupyter-widgets/base",
       "_view_module_version": "1.2.0",
       "_view_name": "LayoutView",
       "align_content": null,
       "align_items": null,
       "align_self": null,
       "border": null,
       "bottom": null,
       "display": null,
       "flex": null,
       "flex_flow": null,
       "grid_area": null,
       "grid_auto_columns": null,
       "grid_auto_flow": null,
       "grid_auto_rows": null,
       "grid_column": null,
       "grid_gap": null,
       "grid_row": null,
       "grid_template_areas": null,
       "grid_template_columns": null,
       "grid_template_rows": null,
       "height": null,
       "justify_content": null,
       "justify_items": null,
       "left": null,
       "margin": null,
       "max_height": null,
       "max_width": null,
       "min_height": null,
       "min_width": null,
       "object_fit": null,
       "object_position": null,
       "order": null,
       "overflow": null,
       "overflow_x": null,
       "overflow_y": null,
       "padding": null,
       "right": null,
       "top": null,
       "visibility": null,
       "width": null
      }
     },
     "f96e1d3c32da4d7ea3034438c014bdc6": {
      "model_module": "@jupyter-widgets/controls",
      "model_module_version": "1.5.0",
      "model_name": "HTMLModel",
      "state": {
       "_dom_classes": [],
       "_model_module": "@jupyter-widgets/controls",
       "_model_module_version": "1.5.0",
       "_model_name": "HTMLModel",
       "_view_count": null,
       "_view_module": "@jupyter-widgets/controls",
       "_view_module_version": "1.5.0",
       "_view_name": "HTMLView",
       "description": "",
       "description_tooltip": null,
       "layout": "IPY_MODEL_10bab207f6fd4f708e0f70c0a2607947",
       "placeholder": "​",
       "style": "IPY_MODEL_aed4f9462d884e41982b66be807bc778",
       "value": " 878k/878k [00:00&lt;00:00, 2.95MB/s]"
      }
     },
     "fe5ffad552564052b1ccb89d7f1441c2": {
      "model_module": "@jupyter-widgets/base",
      "model_module_version": "1.2.0",
      "model_name": "LayoutModel",
      "state": {
       "_model_module": "@jupyter-widgets/base",
       "_model_module_version": "1.2.0",
       "_model_name": "LayoutModel",
       "_view_count": null,
       "_view_module": "@jupyter-widgets/base",
       "_view_module_version": "1.2.0",
       "_view_name": "LayoutView",
       "align_content": null,
       "align_items": null,
       "align_self": null,
       "border": null,
       "bottom": null,
       "display": null,
       "flex": null,
       "flex_flow": null,
       "grid_area": null,
       "grid_auto_columns": null,
       "grid_auto_flow": null,
       "grid_auto_rows": null,
       "grid_column": null,
       "grid_gap": null,
       "grid_row": null,
       "grid_template_areas": null,
       "grid_template_columns": null,
       "grid_template_rows": null,
       "height": null,
       "justify_content": null,
       "justify_items": null,
       "left": null,
       "margin": null,
       "max_height": null,
       "max_width": null,
       "min_height": null,
       "min_width": null,
       "object_fit": null,
       "object_position": null,
       "order": null,
       "overflow": null,
       "overflow_x": null,
       "overflow_y": null,
       "padding": null,
       "right": null,
       "top": null,
       "visibility": null,
       "width": null
      }
     }
    },
    "version_major": 2,
    "version_minor": 0
   }
  }
 },
 "nbformat": 4,
 "nbformat_minor": 5
}
